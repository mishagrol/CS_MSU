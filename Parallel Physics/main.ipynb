{
 "cells": [
  {
   "cell_type": "code",
   "execution_count": 1,
   "metadata": {
    "collapsed": true
   },
   "outputs": [],
   "source": [
    "import numpy as np\n",
    "from scipy.optimize import minimize\n",
    "from POD.crystal_structure import CrystalStructure\n",
    "from POD.utils import calculate_characteristics, error_bb, error_ab, calculate_energy_sol, nrg\n",
    "import matplotlib.pyplot as plt\n",
    "\n",
    "%matplotlib inline\n",
    "plt.rcParams[\"figure.figsize\"] = (12, 9)"
   ]
  },
  {
   "cell_type": "code",
   "execution_count": 2,
   "outputs": [],
   "source": [
    "EPS = 10e-6\n",
    "dim = 3\n",
    "A1 = 0.0\n",
    "A0 = 0.1028\n",
    "KSI = 1.178\n",
    "P = 10.928\n",
    "Q = 3.139\n",
    "R0 = 2.889\n",
    "identity_matrix = np.array([1., 0, 0, 0, 1., 0, 0, 0, 1.])\n",
    "l, r = 0, 10"
   ],
   "metadata": {
    "collapsed": false,
    "pycharm": {
     "name": "#%%\n"
    }
   }
  },
  {
   "cell_type": "code",
   "execution_count": 3,
   "outputs": [],
   "source": [
    "B_B = CrystalStructure(dim)\n",
    "B_B.face_centred_cubic(\"Ag\")"
   ],
   "metadata": {
    "collapsed": false,
    "pycharm": {
     "name": "#%%\n"
    }
   }
  },
  {
   "cell_type": "code",
   "execution_count": 4,
   "outputs": [],
   "source": [
    "while r - l > EPS:\n",
    "    m0 = l + (r - l) / 3\n",
    "    m1 = r - (r - l) / 3\n",
    "\n",
    "    e0 = B_B.calculate_energy(m0 * identity_matrix, A1, A0, KSI, P, Q, R0)\n",
    "    e1 = B_B.calculate_energy(m1 * identity_matrix, A1, A0, KSI, P, Q, R0)\n",
    "\n",
    "    if e0 > e1:\n",
    "        l = m0\n",
    "    else:\n",
    "        r = m1"
   ],
   "metadata": {
    "collapsed": false,
    "pycharm": {
     "name": "#%%\n"
    }
   }
  },
  {
   "cell_type": "code",
   "execution_count": 5,
   "outputs": [
    {
     "name": "stdout",
     "output_type": "stream",
     "text": [
      "4.085669527854498 -2.9603006739221542\n"
     ]
    }
   ],
   "source": [
    "e_coh = B_B.calculate_energy(m0 * identity_matrix, A1, A0, KSI, P, Q, R0) / B_B.get_size()\n",
    "print(m0, e_coh)"
   ],
   "metadata": {
    "collapsed": false,
    "pycharm": {
     "name": "#%%\n"
    }
   }
  },
  {
   "cell_type": "code",
   "execution_count": 6,
   "outputs": [],
   "source": [
    "b, c11, c12, c44 = calculate_characteristics(m0, dim, e_coh, A1, A0, KSI, P, Q, R0)"
   ],
   "metadata": {
    "collapsed": false,
    "pycharm": {
     "name": "#%%\n"
    }
   }
  },
  {
   "cell_type": "code",
   "execution_count": 7,
   "outputs": [
    {
     "name": "stdout",
     "output_type": "stream",
     "text": [
      "b:    1.083687285251602 \n",
      "c11:  1.3173652845889634 \n",
      "c12:  0.966842886004443 \n",
      "c44:  0.5067404891334153\n"
     ]
    }
   ],
   "source": [
    "print(\"b:   \", b, \"\\nc11: \", c11, \"\\nc12: \", c12, \"\\nc44: \", c44)"
   ],
   "metadata": {
    "collapsed": false,
    "pycharm": {
     "name": "#%%\n"
    }
   }
  },
  {
   "cell_type": "code",
   "execution_count": 8,
   "outputs": [],
   "source": [
    "params = []\n",
    "params.append(np.random.uniform(0., 0.025)) # A1 - 0\n",
    "params.append(np.random.uniform(0.08, 0.12)) # A0 - 0.1028\n",
    "params.append(np.random.uniform(1.1, 1.2)) # ksi - 1.178\n",
    "params.append(np.random.uniform(10.8, 11.1)) # p - 10.928\n",
    "params.append(np.random.uniform(3.1, 3.2)) # q - 3.139\n",
    "params.append(np.random.uniform(2.7, 2.9)) # r0 - 2.889"
   ],
   "metadata": {
    "collapsed": false,
    "pycharm": {
     "name": "#%%\n"
    }
   }
  },
  {
   "cell_type": "code",
   "execution_count": 9,
   "outputs": [],
   "source": [
    "bounds = ([0., 0.025], [0.08, 0.12], [1.1, 1.2], [10.8, 11.1], [3.1, 3.2], [2.7, 2.9])"
   ],
   "metadata": {
    "collapsed": false,
    "pycharm": {
     "name": "#%%\n"
    }
   }
  },
  {
   "cell_type": "code",
   "execution_count": 10,
   "outputs": [],
   "source": [
    "parameters = minimize(error_bb, params, args=(dim, m0, e_coh), method='Nelder-Mead', bounds=bounds, options={'maxiter':1000, 'disp': True})"
   ],
   "metadata": {
    "collapsed": false,
    "pycharm": {
     "name": "#%%\n"
    }
   }
  },
  {
   "cell_type": "code",
   "execution_count": 11,
   "outputs": [],
   "source": [
    "parameters.x"
   ],
   "metadata": {
    "collapsed": false,
    "pycharm": {
     "name": "#%%\n"
    }
   }
  },
  {
   "cell_type": "code",
   "execution_count": 12,
   "outputs": [],
   "source": [
    "e_b = B_B.calculate_energy(m0 * identity_matrix, A1, A0, KSI, P, Q, R0)"
   ],
   "metadata": {
    "collapsed": false,
    "pycharm": {
     "name": "#%%\n"
    }
   }
  },
  {
   "cell_type": "code",
   "execution_count": 13,
   "outputs": [
    {
     "name": "stdout",
     "output_type": "stream",
     "text": [
      "Optimization terminated successfully.\n",
      "         Current function value: 0.000000\n",
      "         Iterations: 120\n",
      "         Function evaluations: 214\n"
     ]
    }
   ],
   "source": [
    "parameters = minimize(error_ab, params, args=(dim, m0, A1, A0, KSI, P, Q, R0, e_coh, e_b), method='Nelder-Mead',\n",
    "                      options={'maxiter':1000, 'disp': True})"
   ],
   "metadata": {
    "collapsed": false,
    "pycharm": {
     "name": "#%%\n"
    }
   }
  },
  {
   "cell_type": "code",
   "execution_count": 35,
   "outputs": [
    {
     "data": {
      "text/plain": "array([ 0.022152  ,  0.12717538,  0.65584694, 11.02393728,  3.24396901,\n        3.18767035])"
     },
     "execution_count": 35,
     "metadata": {},
     "output_type": "execute_result"
    }
   ],
   "source": [
    "parameters.x"
   ],
   "metadata": {
    "collapsed": false,
    "pycharm": {
     "name": "#%%\n"
    }
   }
  },
  {
   "cell_type": "code",
   "execution_count": 34,
   "outputs": [
    {
     "name": "stdout",
     "output_type": "stream",
     "text": [
      "0.8809843238437227\n"
     ]
    }
   ],
   "source": [
    "e_coh_a = 4.10\n",
    "A_B = CrystalStructure(dim)\n",
    "A_B.face_centred_cubic(\"Ag\")\n",
    "A_B.change_atom(\"Cr\")\n",
    "e_ab = A_B.calculate_energy(m0 * identity_matrix, A1, A0, KSI, P, Q, R0, parameters.x)\n",
    "print(calculate_energy_sol(e_coh_a, e_coh, e_b, e_ab))"
   ],
   "metadata": {
    "collapsed": false,
    "pycharm": {
     "name": "#%%\n"
    }
   }
  },
  {
   "cell_type": "code",
   "execution_count": 32,
   "outputs": [],
   "source": [
    "list_rij = []\n",
    "list_nrg = []\n",
    "list_nr = []\n",
    "rij = 0.1\n",
    "\n",
    "while rij <= 8:\n",
    "    list_rij.append(rij)\n",
    "    list_nrg.append(nrg(rij, [A1, A0, KSI, P, Q, R0]))\n",
    "    list_nr.append(nrg(rij, parameters.x))\n",
    "    rij += 0.1"
   ],
   "metadata": {
    "collapsed": false,
    "pycharm": {
     "name": "#%%\n"
    }
   }
  },
  {
   "cell_type": "code",
   "execution_count": 33,
   "outputs": [
    {
     "data": {
      "text/plain": "(-2.0, 8.0)"
     },
     "execution_count": 33,
     "metadata": {},
     "output_type": "execute_result"
    },
    {
     "data": {
      "text/plain": "<Figure size 864x648 with 1 Axes>",
      "image/png": "[encoded data removed]"
     },
     "metadata": {
      "needs_background": "light"
     },
     "output_type": "display_data"
    }
   ],
   "source": [
    "plt.plot(list_rij, list_nrg, label='B - B')\n",
    "plt.plot(list_rij, list_nr, label='A - B')\n",
    "plt.legend()\n",
    "plt.grid()\n",
    "plt.xlim(0, 8)\n",
    "plt.ylim(-2, 8)"
   ],
   "metadata": {
    "collapsed": false,
    "pycharm": {
     "name": "#%%\n"
    }
   }
  }
 ],
 "metadata": {
  "kernelspec": {
   "display_name": "Python 3",
   "language": "python",
   "name": "python3"
  },
  "language_info": {
   "codemirror_mode": {
    "name": "ipython",
    "version": 2
   },
   "file_extension": ".py",
   "mimetype": "text/x-python",
   "name": "python",
   "nbconvert_exporter": "python",
   "pygments_lexer": "ipython2",
   "version": "2.7.6"
  }
 },
 "nbformat": 4,
 "nbformat_minor": 0
}