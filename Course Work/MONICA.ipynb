{
 "cells": [
  {
   "cell_type": "markdown",
   "id": "a33b4553",
   "metadata": {},
   "source": [
    "## MONICA Crop Model\n",
    "\n",
    "--------------"
   ]
  },
  {
   "cell_type": "markdown",
   "id": "31c733c2",
   "metadata": {},
   "source": [
    "Tasks:\n",
    "\n",
    "* Скачать погоду в формате MONICA и передать для запуска моделей Sarima, Arima, etc\n",
    "\n",
    "* Сделать запуск из docker модели"
   ]
  },
  {
   "cell_type": "code",
   "execution_count": 1,
   "id": "55e12866",
   "metadata": {},
   "outputs": [],
   "source": [
    "import os, sys\n",
    "import json\n",
    "import pandas as pd\n",
    "import datetime as dt\n",
    "import subprocess\n",
    "# import xarray as xr\n",
    "import math\n",
    "import shutil\n",
    "\n",
    "\n",
    "import seaborn as sns\n",
    "import matplotlib.pyplot as plt"
   ]
  },
  {
   "cell_type": "code",
   "execution_count": 1,
   "id": "0e08d27c",
   "metadata": {},
   "outputs": [],
   "source": [
    "def csvdate_to_date(x, dateformat):\n",
    "    \"\"\"Converts string x to a datetime.date using given format.\n",
    "\n",
    "    :param x: the string representing a date\n",
    "    :param dateformat: a strptime() accepted date format\n",
    "    :return: a date\n",
    "    \"\"\"\n",
    "    dt_f = dt.datetime.strptime(str(x), dateformat)\n",
    "    dt_p = dt.datetime.strftime(dt_f, '%d.%m.%Y')\n",
    "    return dt_p\n",
    "\n",
    "\n",
    "# Conversion functions\n",
    "def NoConversion(x, d):\n",
    "    return float(x)\n",
    "\n",
    "\n",
    "def kJ_to_MJ(x, d):\n",
    "    return float(x)/1000.\n",
    "\n",
    "\n",
    "def mm_to_cm(x, d):\n",
    "    return float(x)/10.\n",
    "\n",
    "\n",
    "def kPa_to_hPa(x, d):\n",
    "    return float(x)*10.\n"
   ]
  },
  {
   "cell_type": "code",
   "execution_count": null,
   "id": "4a586ec1",
   "metadata": {},
   "outputs": [],
   "source": [
    "nasa_weather = NASA_MONICA(latitude = 45, longitude = 37)"
   ]
  },
  {
   "cell_type": "code",
   "execution_count": 20,
   "id": "6e70bb99",
   "metadata": {},
   "outputs": [],
   "source": [
    "import datetime as dt\n",
    "import numpy as np \n",
    "import os\n",
    "import requests\n",
    "\n"
   ]
  },
  {
   "cell_type": "code",
   "execution_count": 21,
   "id": "20e4b15f",
   "metadata": {},
   "outputs": [],
   "source": [
    "lon, lat = 37.793500,51.907430\n",
    "nasa_weather = NASA_MONICA(latitude = lat, longitude = lon)\n",
    "df_weather = nasa_weather.df_monica.copy()\n",
    "df_weather.loc[:,'de-date'] = pd.to_datetime(df_weather.loc[:,'de-date'],\n",
    "                                             format='%d.%m.%Y')\n",
    "r = pd.date_range(start=df_weather.loc[:,'de-date'].min(), \n",
    "                  end=df_weather.loc[:,'de-date'].max())\n",
    "df_weather = df_weather.set_index('de-date')\n",
    "full_range_weather = df_weather.reindex(r).rename_axis('de-date').reset_index()\n",
    "filled_weather = full_range_weather.fillna(method='ffill', axis=0)      \n",
    "filled_weather.loc[:, 'de-date'] = filled_weather.loc[:, 'de-date'].dt.strftime('%d.%m.%Y')\n",
    "\n",
    "fname = './data/monica_weather.csv'\n",
    "# filled_weather.to_csv(fname, sep=';',index=False)"
   ]
  },
  {
   "cell_type": "code",
   "execution_count": 23,
   "id": "a41e0b74",
   "metadata": {},
   "outputs": [],
   "source": [
    "filled_weather.to_csv(fname, sep=';',index=False)"
   ]
  },
  {
   "cell_type": "code",
   "execution_count": null,
   "id": "df988742",
   "metadata": {},
   "outputs": [],
   "source": [
    "cropsDict = {'barley':{'species':'crops/barley.json', \n",
    "                       'cultivar':'crops/barley/spring-barley.json',\n",
    "                       'crop-residues':'crop-residues/barley.json'},\n",
    "            'soybean':{'species':'crops/soybean.json', \n",
    "                       'cultivar':'crops/soybean/000.json',\n",
    "                       'crop-residues':'crop-residues/soybean.json'},\n",
    "            'maize':{'species':'crops/maize.json', \n",
    "                     'cultivar':'crops/maize/grain-maize-Pioneer-30K75.json',\n",
    "                     'crop-residues':'crop-residues/maize.json'},\n",
    "            'wheat':{'species':'crops/wheat.json',\n",
    "                     'cultivar':'crops/wheat/spring-wheat.json',\n",
    "                     'crop-residues':'crop-residues/wheat.json'},\n",
    "            'sugar-beet':{'species':'crops/sugar-beet.json',\n",
    "                     'cultivar':'crops/sugar-beet/.json',\n",
    "                     'crop-residues':'crop-residues/beet.json'}}\n",
    "\n",
    "\n",
    "\n",
    "\n",
    "# calendar datasets\n",
    "pathCalendar = '/home/mgasanov/agro/CropCalendar'\n",
    "\n",
    "\n",
    "\n",
    "def prepareCrop(path:str, \n",
    "                crop_name:str,\n",
    "                planting:str,\n",
    "                harvest:str)-> dict:\n",
    "    \n",
    "    \"\"\"\n",
    "    Prepare crop dict for MONICA JSON file \n",
    "    \n",
    "    \"\"\"\n",
    "    \n",
    "    \n",
    "    crop_file = os.path.join(path, 'crop.json')\n",
    "\n",
    "    with open(crop_file, 'r') as j:\n",
    "         cropJson = json.loads(j.read())\n",
    "\n",
    "    #planting date\n",
    "    cropJson['cropRotation'][0]['worksteps'][0]['date'] = planting\n",
    "    # harvest date\n",
    "    cropJson['cropRotation'][0]['worksteps'][1]['date'] = harvest\n",
    "    for target in ['species', 'cultivar']:\n",
    "        cropJson['cropRotation'][0]['worksteps'][0]['crop']\\\n",
    "                        ['cropParams'][target][1] = cropsDict[crop_name][target]\n",
    "    cropJson['cropRotation'][0]['worksteps'][0]['crop']['residueParams'][1] = cropsDict[crop_name]['crop-residues']\n",
    "    \n",
    "    cropfName = os.path.join(path, 'crop-monica.json')\n",
    "    with open(cropfName, 'w') as file: \n",
    "        json.dump(cropJson, file, ensure_ascii=False, indent=4)\n",
    "\n",
    "    \n",
    "    return cropJson"
   ]
  },
  {
   "cell_type": "code",
   "execution_count": 16,
   "id": "50455942",
   "metadata": {},
   "outputs": [],
   "source": [
    "\n",
    "crop_calendar = {\"sugar_beat_2015\" : {\"crop_start_date\": \"2015-05-20\",\n",
    "                   \"crop_end_date\": \"2015-09-15\"},\n",
    "                \"winter_wheat_2015\": {\"crop_start_date\": \"2015-09-25\",\n",
    "                   \"crop_end_date\": \"2016-07-04\"},\n",
    "                \"sugar_beat_2017\" : {\"crop_start_date\": \"2017-05-20\",\n",
    "                   \"crop_end_date\": \"2017-09-15\"},\n",
    "                \"winter_wheat_2017\" : {\"crop_start_date\": \"2017-09-25\",\n",
    "                   \"crop_end_date\": \"2018-07-04\"}}"
   ]
  },
  {
   "cell_type": "markdown",
   "id": "ac05fffc",
   "metadata": {},
   "source": [
    " ## Run monica"
   ]
  },
  {
   "cell_type": "code",
   "execution_count": 48,
   "id": "e336e8be",
   "metadata": {},
   "outputs": [],
   "source": [
    "reanalysis = pd.read_csv('./monica/climate-monica.csv', sep=';')"
   ]
  },
  {
   "cell_type": "code",
   "execution_count": 59,
   "id": "8422154a",
   "metadata": {},
   "outputs": [],
   "source": [
    "reanalysis = reanalysis.iloc[365*5+1:-365*4-150, :]"
   ]
  },
  {
   "cell_type": "code",
   "execution_count": 139,
   "id": "b7e5e869",
   "metadata": {},
   "outputs": [],
   "source": [
    "reanalysis.to_csv('./monica/climate-monica_v1.csv', sep=';', index=False)"
   ]
  },
  {
   "cell_type": "code",
   "execution_count": 71,
   "id": "0c1eebbd",
   "metadata": {},
   "outputs": [],
   "source": [
    "forecast = pd.read_csv('./prediction_monica.csv')"
   ]
  },
  {
   "cell_type": "code",
   "execution_count": 92,
   "id": "65c8ae15",
   "metadata": {},
   "outputs": [],
   "source": [
    "reanalysis = reanalysis.reset_index(drop=True)"
   ]
  },
  {
   "cell_type": "code",
   "execution_count": 87,
   "id": "2d31e2f8",
   "metadata": {},
   "outputs": [
    {
     "name": "stderr",
     "output_type": "stream",
     "text": [
      "/usr/local/lib/python3.7/dist-packages/ipykernel_launcher.py:8: SettingWithCopyWarning: \n",
      "A value is trying to be set on a copy of a slice from a DataFrame\n",
      "\n",
      "See the caveats in the documentation: https://pandas.pydata.org/pandas-docs/stable/user_guide/indexing.html#returning-a-view-versus-a-copy\n",
      "  \n"
     ]
    }
   ],
   "source": [
    "forecast = pd.read_csv('./prediction_monica.csv')\n",
    "\n",
    "forecast['de-date'] = pd.to_datetime(forecast['de-date'])\n",
    "mask = forecast['de-date']<'31.12.2017'\n",
    "forecast = forecast.loc[mask]\n",
    "forecast['de-date'] = pd.to_datetime(forecast['de-date']).dt.strftime('%d.%m.%Y')\n",
    "\n",
    "forecast['relhumid'][forecast['relhumid']>0]=99.99"
   ]
  },
  {
   "cell_type": "code",
   "execution_count": 140,
   "id": "3d203108",
   "metadata": {},
   "outputs": [],
   "source": [
    "forecast.round(2).to_csv('./monica/forecast.csv', sep=';', index=False)"
   ]
  },
  {
   "cell_type": "code",
   "execution_count": 138,
   "id": "f2071a02",
   "metadata": {},
   "outputs": [
    {
     "data": {
      "text/plain": [
       "<matplotlib.legend.Legend at 0x7f166014e470>"
      ]
     },
     "execution_count": 138,
     "metadata": {},
     "output_type": "execute_result"
    },
    {
     "data": {
      "image/png": "[encoded data removed]",
      "text/plain": [
       "<Figure size 640x480 with 1 Axes>"
      ]
     },
     "metadata": {},
     "output_type": "display_data"
    }
   ],
   "source": [
    "reanalysis['tavg'].plot(label = 'ERA5')\n",
    "forecast['tavg'].plot(label='Forecast')\n",
    "plt.legend()"
   ]
  },
  {
   "cell_type": "markdown",
   "id": "079d7f57",
   "metadata": {},
   "source": [
    "### Run MONICA model "
   ]
  },
  {
   "cell_type": "code",
   "execution_count": 141,
   "id": "cc2cef82",
   "metadata": {},
   "outputs": [],
   "source": [
    "\n",
    "\n",
    "def run_monica(climate_fname: str)->pd.DataFrame:\n",
    "    \"\"\"\n",
    "    run monica model \n",
    "    \n",
    "    climate_fname: str - path to file with weather\n",
    "    \"\"\"\n",
    "    path_monica = './monica/monica_input/'\n",
    "    dst = os.path.join(path_monica, \"climate-monica.csv\")\n",
    "    shutil.copy2(climate_fname,dst)\n",
    "    path_sim_file = '/home/monica/monica_input/sim-monica.json'\n",
    "    cmd = 'monica-run'\n",
    "    res_monica_run = subprocess.run([cmd, path_sim_file], universal_newlines=True)\n",
    "    daily_monica = pd.read_csv('./out.csv', skiprows=[0,2], skipfooter=30, engine='python')\n",
    "    final_monica = pd.read_csv('./out.csv', skiprows=1100, skipfooter=13, engine='python')\n",
    "    return out_monica, final_monica"
   ]
  },
  {
   "cell_type": "code",
   "execution_count": 142,
   "id": "2cadbfa9",
   "metadata": {},
   "outputs": [],
   "source": [
    "df_forecast, final_forecast = run_monica(climate_fname='./monica/forecast.csv')\n",
    "df_reanalysis, final_reanalysis = run_monica(climate_fname='./monica/climate-monica_v1.csv')"
   ]
  },
  {
   "cell_type": "code",
   "execution_count": 147,
   "id": "2c3f6983",
   "metadata": {},
   "outputs": [
    {
     "data": {
      "text/html": [
       "<div>\n",
       "<style scoped>\n",
       "    .dataframe tbody tr th:only-of-type {\n",
       "        vertical-align: middle;\n",
       "    }\n",
       "\n",
       "    .dataframe tbody tr th {\n",
       "        vertical-align: top;\n",
       "    }\n",
       "\n",
       "    .dataframe thead th {\n",
       "        text-align: right;\n",
       "    }\n",
       "</style>\n",
       "<table border=\"1\" class=\"dataframe\">\n",
       "  <thead>\n",
       "    <tr style=\"text-align: right;\">\n",
       "      <th></th>\n",
       "      <th>CM-count</th>\n",
       "      <th>Crop</th>\n",
       "      <th>Yield</th>\n",
       "      <th>sowing</th>\n",
       "      <th>harvest</th>\n",
       "    </tr>\n",
       "  </thead>\n",
       "  <tbody>\n",
       "    <tr>\n",
       "      <th>0</th>\n",
       "      <td>[]</td>\n",
       "      <td>[]</td>\n",
       "      <td>[kgDM ha-1]</td>\n",
       "      <td>[]</td>\n",
       "      <td>[]</td>\n",
       "    </tr>\n",
       "    <tr>\n",
       "      <th>1</th>\n",
       "      <td>1</td>\n",
       "      <td>soybean/000</td>\n",
       "      <td>4803.4</td>\n",
       "      <td>2016-04-15</td>\n",
       "      <td>2016-09-10</td>\n",
       "    </tr>\n",
       "    <tr>\n",
       "      <th>2</th>\n",
       "      <td>2</td>\n",
       "      <td>sugar beet/</td>\n",
       "      <td>29819.6</td>\n",
       "      <td>2017-05-02</td>\n",
       "      <td>2017-11-01</td>\n",
       "    </tr>\n",
       "  </tbody>\n",
       "</table>\n",
       "</div>"
      ],
      "text/plain": [
       "  CM-count         Crop        Yield      sowing     harvest\n",
       "0       []           []  [kgDM ha-1]          []          []\n",
       "1        1  soybean/000       4803.4  2016-04-15  2016-09-10\n",
       "2        2  sugar beet/      29819.6  2017-05-02  2017-11-01"
      ]
     },
     "execution_count": 147,
     "metadata": {},
     "output_type": "execute_result"
    }
   ],
   "source": [
    "final_forecast"
   ]
  },
  {
   "cell_type": "code",
   "execution_count": 148,
   "id": "f26c417e",
   "metadata": {},
   "outputs": [
    {
     "data": {
      "text/html": [
       "<div>\n",
       "<style scoped>\n",
       "    .dataframe tbody tr th:only-of-type {\n",
       "        vertical-align: middle;\n",
       "    }\n",
       "\n",
       "    .dataframe tbody tr th {\n",
       "        vertical-align: top;\n",
       "    }\n",
       "\n",
       "    .dataframe thead th {\n",
       "        text-align: right;\n",
       "    }\n",
       "</style>\n",
       "<table border=\"1\" class=\"dataframe\">\n",
       "  <thead>\n",
       "    <tr style=\"text-align: right;\">\n",
       "      <th></th>\n",
       "      <th></th>\n",
       "      <th></th>\n",
       "      <th></th>\n",
       "      <th>crop</th>\n",
       "    </tr>\n",
       "  </thead>\n",
       "  <tbody>\n",
       "    <tr>\n",
       "      <th>CM-count</th>\n",
       "      <th>Crop</th>\n",
       "      <th>Yield</th>\n",
       "      <th>sowing</th>\n",
       "      <td>harvest</td>\n",
       "    </tr>\n",
       "    <tr>\n",
       "      <th>[]</th>\n",
       "      <th>[]</th>\n",
       "      <th>[kgDM ha-1]</th>\n",
       "      <th>[]</th>\n",
       "      <td>[]</td>\n",
       "    </tr>\n",
       "    <tr>\n",
       "      <th>1</th>\n",
       "      <th>soybean/000</th>\n",
       "      <th>75.7</th>\n",
       "      <th>2016-04-15</th>\n",
       "      <td>2016-09-10</td>\n",
       "    </tr>\n",
       "    <tr>\n",
       "      <th>2</th>\n",
       "      <th>sugar beet/</th>\n",
       "      <th>11435.9</th>\n",
       "      <th>2017-05-02</th>\n",
       "      <td>2017-11-01</td>\n",
       "    </tr>\n",
       "  </tbody>\n",
       "</table>\n",
       "</div>"
      ],
      "text/plain": [
       "                                                   crop\n",
       "CM-count Crop        Yield       sowing         harvest\n",
       "[]       []          [kgDM ha-1] []                  []\n",
       "1        soybean/000 75.7        2016-04-15  2016-09-10\n",
       "2        sugar beet/ 11435.9     2017-05-02  2017-11-01"
      ]
     },
     "execution_count": 148,
     "metadata": {},
     "output_type": "execute_result"
    }
   ],
   "source": [
    "final_reanalysis"
   ]
  },
  {
   "cell_type": "code",
   "execution_count": 122,
   "id": "36b343c3",
   "metadata": {},
   "outputs": [],
   "source": [
    "soybean = df_forecast.loc[df_forecast['Crop']=='soybean/000']"
   ]
  },
  {
   "cell_type": "code",
   "execution_count": 124,
   "id": "ffa62200",
   "metadata": {},
   "outputs": [
    {
     "data": {
      "text/plain": [
       "<AxesSubplot:>"
      ]
     },
     "execution_count": 124,
     "metadata": {},
     "output_type": "execute_result"
    },
    {
     "data": {
      "image/png": "[encoded data removed]",
      "text/plain": [
       "<Figure size 640x480 with 1 Axes>"
      ]
     },
     "metadata": {},
     "output_type": "display_data"
    }
   ],
   "source": [
    "soybean['LAI'].plot()"
   ]
  },
  {
   "cell_type": "code",
   "execution_count": 102,
   "id": "f0405a91",
   "metadata": {},
   "outputs": [
    {
     "data": {
      "text/html": [
       "<div>\n",
       "<style scoped>\n",
       "    .dataframe tbody tr th:only-of-type {\n",
       "        vertical-align: middle;\n",
       "    }\n",
       "\n",
       "    .dataframe tbody tr th {\n",
       "        vertical-align: top;\n",
       "    }\n",
       "\n",
       "    .dataframe thead th {\n",
       "        text-align: right;\n",
       "    }\n",
       "</style>\n",
       "<table border=\"1\" class=\"dataframe\">\n",
       "  <thead>\n",
       "    <tr style=\"text-align: right;\">\n",
       "      <th></th>\n",
       "      <th>Date</th>\n",
       "      <th>Crop</th>\n",
       "      <th>TraDef</th>\n",
       "      <th>Tra</th>\n",
       "      <th>NDef</th>\n",
       "      <th>HeatRed</th>\n",
       "      <th>FrostRed</th>\n",
       "      <th>OxRed</th>\n",
       "      <th>Stage</th>\n",
       "      <th>TempSum</th>\n",
       "      <th>...</th>\n",
       "      <th>NEE</th>\n",
       "      <th>Rh</th>\n",
       "      <th>Tmin</th>\n",
       "      <th>Tavg</th>\n",
       "      <th>Tmax</th>\n",
       "      <th>Wind</th>\n",
       "      <th>Globrad</th>\n",
       "      <th>Relhumid</th>\n",
       "      <th>Sunhours</th>\n",
       "      <th>NFert</th>\n",
       "    </tr>\n",
       "  </thead>\n",
       "  <tbody>\n",
       "    <tr>\n",
       "      <th>0</th>\n",
       "      <td>2015-01-01</td>\n",
       "      <td>NaN</td>\n",
       "      <td>0</td>\n",
       "      <td>0.0</td>\n",
       "      <td>0.0</td>\n",
       "      <td>0</td>\n",
       "      <td>0</td>\n",
       "      <td>0</td>\n",
       "      <td>0</td>\n",
       "      <td>0.0</td>\n",
       "      <td>...</td>\n",
       "      <td>6.32388</td>\n",
       "      <td>6.32388</td>\n",
       "      <td>-11.10</td>\n",
       "      <td>-7.80</td>\n",
       "      <td>-4.63</td>\n",
       "      <td>3.58</td>\n",
       "      <td>2.96</td>\n",
       "      <td>99.99</td>\n",
       "      <td>0</td>\n",
       "      <td>0.0</td>\n",
       "    </tr>\n",
       "    <tr>\n",
       "      <th>1</th>\n",
       "      <td>2015-01-02</td>\n",
       "      <td>NaN</td>\n",
       "      <td>0</td>\n",
       "      <td>0.0</td>\n",
       "      <td>0.0</td>\n",
       "      <td>0</td>\n",
       "      <td>0</td>\n",
       "      <td>0</td>\n",
       "      <td>0</td>\n",
       "      <td>0.0</td>\n",
       "      <td>...</td>\n",
       "      <td>5.63131</td>\n",
       "      <td>5.63131</td>\n",
       "      <td>-11.20</td>\n",
       "      <td>-7.89</td>\n",
       "      <td>-4.73</td>\n",
       "      <td>3.53</td>\n",
       "      <td>3.09</td>\n",
       "      <td>99.99</td>\n",
       "      <td>0</td>\n",
       "      <td>0.0</td>\n",
       "    </tr>\n",
       "    <tr>\n",
       "      <th>2</th>\n",
       "      <td>2015-01-03</td>\n",
       "      <td>NaN</td>\n",
       "      <td>0</td>\n",
       "      <td>0.0</td>\n",
       "      <td>0.0</td>\n",
       "      <td>0</td>\n",
       "      <td>0</td>\n",
       "      <td>0</td>\n",
       "      <td>0</td>\n",
       "      <td>0.0</td>\n",
       "      <td>...</td>\n",
       "      <td>5.36260</td>\n",
       "      <td>5.36260</td>\n",
       "      <td>-11.27</td>\n",
       "      <td>-7.85</td>\n",
       "      <td>-4.66</td>\n",
       "      <td>3.50</td>\n",
       "      <td>3.15</td>\n",
       "      <td>99.99</td>\n",
       "      <td>0</td>\n",
       "      <td>0.0</td>\n",
       "    </tr>\n",
       "    <tr>\n",
       "      <th>3</th>\n",
       "      <td>2015-01-04</td>\n",
       "      <td>NaN</td>\n",
       "      <td>0</td>\n",
       "      <td>0.0</td>\n",
       "      <td>0.0</td>\n",
       "      <td>0</td>\n",
       "      <td>0</td>\n",
       "      <td>0</td>\n",
       "      <td>0</td>\n",
       "      <td>0.0</td>\n",
       "      <td>...</td>\n",
       "      <td>5.12300</td>\n",
       "      <td>5.12300</td>\n",
       "      <td>-11.31</td>\n",
       "      <td>-7.88</td>\n",
       "      <td>-4.73</td>\n",
       "      <td>3.47</td>\n",
       "      <td>3.23</td>\n",
       "      <td>99.99</td>\n",
       "      <td>0</td>\n",
       "      <td>0.0</td>\n",
       "    </tr>\n",
       "    <tr>\n",
       "      <th>4</th>\n",
       "      <td>2015-01-05</td>\n",
       "      <td>NaN</td>\n",
       "      <td>0</td>\n",
       "      <td>0.0</td>\n",
       "      <td>0.0</td>\n",
       "      <td>0</td>\n",
       "      <td>0</td>\n",
       "      <td>0</td>\n",
       "      <td>0</td>\n",
       "      <td>0.0</td>\n",
       "      <td>...</td>\n",
       "      <td>4.90583</td>\n",
       "      <td>4.90583</td>\n",
       "      <td>-11.43</td>\n",
       "      <td>-8.00</td>\n",
       "      <td>-4.73</td>\n",
       "      <td>3.44</td>\n",
       "      <td>3.14</td>\n",
       "      <td>99.99</td>\n",
       "      <td>0</td>\n",
       "      <td>0.0</td>\n",
       "    </tr>\n",
       "    <tr>\n",
       "      <th>...</th>\n",
       "      <td>...</td>\n",
       "      <td>...</td>\n",
       "      <td>...</td>\n",
       "      <td>...</td>\n",
       "      <td>...</td>\n",
       "      <td>...</td>\n",
       "      <td>...</td>\n",
       "      <td>...</td>\n",
       "      <td>...</td>\n",
       "      <td>...</td>\n",
       "      <td>...</td>\n",
       "      <td>...</td>\n",
       "      <td>...</td>\n",
       "      <td>...</td>\n",
       "      <td>...</td>\n",
       "      <td>...</td>\n",
       "      <td>...</td>\n",
       "      <td>...</td>\n",
       "      <td>...</td>\n",
       "      <td>...</td>\n",
       "      <td>...</td>\n",
       "    </tr>\n",
       "    <tr>\n",
       "      <th>1079</th>\n",
       "      <td>2017-12-15</td>\n",
       "      <td>NaN</td>\n",
       "      <td>0</td>\n",
       "      <td>0.0</td>\n",
       "      <td>0.0</td>\n",
       "      <td>0</td>\n",
       "      <td>0</td>\n",
       "      <td>0</td>\n",
       "      <td>0</td>\n",
       "      <td>0.0</td>\n",
       "      <td>...</td>\n",
       "      <td>7.51032</td>\n",
       "      <td>7.51032</td>\n",
       "      <td>-9.56</td>\n",
       "      <td>-6.52</td>\n",
       "      <td>-3.16</td>\n",
       "      <td>3.56</td>\n",
       "      <td>2.93</td>\n",
       "      <td>99.99</td>\n",
       "      <td>0</td>\n",
       "      <td>0.0</td>\n",
       "    </tr>\n",
       "    <tr>\n",
       "      <th>1080</th>\n",
       "      <td>2017-12-16</td>\n",
       "      <td>NaN</td>\n",
       "      <td>0</td>\n",
       "      <td>0.0</td>\n",
       "      <td>0.0</td>\n",
       "      <td>0</td>\n",
       "      <td>0</td>\n",
       "      <td>0</td>\n",
       "      <td>0</td>\n",
       "      <td>0.0</td>\n",
       "      <td>...</td>\n",
       "      <td>7.37928</td>\n",
       "      <td>7.37928</td>\n",
       "      <td>-9.72</td>\n",
       "      <td>-6.55</td>\n",
       "      <td>-3.16</td>\n",
       "      <td>3.56</td>\n",
       "      <td>2.88</td>\n",
       "      <td>99.99</td>\n",
       "      <td>0</td>\n",
       "      <td>0.0</td>\n",
       "    </tr>\n",
       "    <tr>\n",
       "      <th>1081</th>\n",
       "      <td>2017-12-17</td>\n",
       "      <td>NaN</td>\n",
       "      <td>0</td>\n",
       "      <td>0.0</td>\n",
       "      <td>0.0</td>\n",
       "      <td>0</td>\n",
       "      <td>0</td>\n",
       "      <td>0</td>\n",
       "      <td>0</td>\n",
       "      <td>0.0</td>\n",
       "      <td>...</td>\n",
       "      <td>7.25274</td>\n",
       "      <td>7.25274</td>\n",
       "      <td>-9.83</td>\n",
       "      <td>-6.65</td>\n",
       "      <td>-3.29</td>\n",
       "      <td>3.55</td>\n",
       "      <td>2.85</td>\n",
       "      <td>99.99</td>\n",
       "      <td>0</td>\n",
       "      <td>0.0</td>\n",
       "    </tr>\n",
       "    <tr>\n",
       "      <th>1082</th>\n",
       "      <td>2017-12-18</td>\n",
       "      <td>NaN</td>\n",
       "      <td>0</td>\n",
       "      <td>0.0</td>\n",
       "      <td>0.0</td>\n",
       "      <td>0</td>\n",
       "      <td>0</td>\n",
       "      <td>0</td>\n",
       "      <td>0</td>\n",
       "      <td>0.0</td>\n",
       "      <td>...</td>\n",
       "      <td>7.12761</td>\n",
       "      <td>7.12761</td>\n",
       "      <td>-10.00</td>\n",
       "      <td>-6.81</td>\n",
       "      <td>-3.32</td>\n",
       "      <td>3.56</td>\n",
       "      <td>2.65</td>\n",
       "      <td>99.99</td>\n",
       "      <td>0</td>\n",
       "      <td>0.0</td>\n",
       "    </tr>\n",
       "    <tr>\n",
       "      <th>1083</th>\n",
       "      <td>2017-12-19</td>\n",
       "      <td>NaN</td>\n",
       "      <td>0</td>\n",
       "      <td>0.0</td>\n",
       "      <td>0.0</td>\n",
       "      <td>0</td>\n",
       "      <td>0</td>\n",
       "      <td>0</td>\n",
       "      <td>0</td>\n",
       "      <td>0.0</td>\n",
       "      <td>...</td>\n",
       "      <td>7.01047</td>\n",
       "      <td>7.01047</td>\n",
       "      <td>-10.20</td>\n",
       "      <td>-7.01</td>\n",
       "      <td>-3.47</td>\n",
       "      <td>3.55</td>\n",
       "      <td>2.58</td>\n",
       "      <td>99.99</td>\n",
       "      <td>0</td>\n",
       "      <td>0.0</td>\n",
       "    </tr>\n",
       "  </tbody>\n",
       "</table>\n",
       "<p>1084 rows × 195 columns</p>\n",
       "</div>"
      ],
      "text/plain": [
       "            Date Crop  TraDef  Tra  NDef  HeatRed  FrostRed  OxRed  Stage  \\\n",
       "0     2015-01-01  NaN       0  0.0   0.0        0         0      0      0   \n",
       "1     2015-01-02  NaN       0  0.0   0.0        0         0      0      0   \n",
       "2     2015-01-03  NaN       0  0.0   0.0        0         0      0      0   \n",
       "3     2015-01-04  NaN       0  0.0   0.0        0         0      0      0   \n",
       "4     2015-01-05  NaN       0  0.0   0.0        0         0      0      0   \n",
       "...          ...  ...     ...  ...   ...      ...       ...    ...    ...   \n",
       "1079  2017-12-15  NaN       0  0.0   0.0        0         0      0      0   \n",
       "1080  2017-12-16  NaN       0  0.0   0.0        0         0      0      0   \n",
       "1081  2017-12-17  NaN       0  0.0   0.0        0         0      0      0   \n",
       "1082  2017-12-18  NaN       0  0.0   0.0        0         0      0      0   \n",
       "1083  2017-12-19  NaN       0  0.0   0.0        0         0      0      0   \n",
       "\n",
       "      TempSum  ...      NEE       Rh   Tmin  Tavg  Tmax  Wind  Globrad  \\\n",
       "0         0.0  ...  6.32388  6.32388 -11.10 -7.80 -4.63  3.58     2.96   \n",
       "1         0.0  ...  5.63131  5.63131 -11.20 -7.89 -4.73  3.53     3.09   \n",
       "2         0.0  ...  5.36260  5.36260 -11.27 -7.85 -4.66  3.50     3.15   \n",
       "3         0.0  ...  5.12300  5.12300 -11.31 -7.88 -4.73  3.47     3.23   \n",
       "4         0.0  ...  4.90583  4.90583 -11.43 -8.00 -4.73  3.44     3.14   \n",
       "...       ...  ...      ...      ...    ...   ...   ...   ...      ...   \n",
       "1079      0.0  ...  7.51032  7.51032  -9.56 -6.52 -3.16  3.56     2.93   \n",
       "1080      0.0  ...  7.37928  7.37928  -9.72 -6.55 -3.16  3.56     2.88   \n",
       "1081      0.0  ...  7.25274  7.25274  -9.83 -6.65 -3.29  3.55     2.85   \n",
       "1082      0.0  ...  7.12761  7.12761 -10.00 -6.81 -3.32  3.56     2.65   \n",
       "1083      0.0  ...  7.01047  7.01047 -10.20 -7.01 -3.47  3.55     2.58   \n",
       "\n",
       "      Relhumid  Sunhours  NFert  \n",
       "0        99.99         0    0.0  \n",
       "1        99.99         0    0.0  \n",
       "2        99.99         0    0.0  \n",
       "3        99.99         0    0.0  \n",
       "4        99.99         0    0.0  \n",
       "...        ...       ...    ...  \n",
       "1079     99.99         0    0.0  \n",
       "1080     99.99         0    0.0  \n",
       "1081     99.99         0    0.0  \n",
       "1082     99.99         0    0.0  \n",
       "1083     99.99         0    0.0  \n",
       "\n",
       "[1084 rows x 195 columns]"
      ]
     },
     "execution_count": 102,
     "metadata": {},
     "output_type": "execute_result"
    }
   ],
   "source": [
    "out_monica"
   ]
  },
  {
   "cell_type": "code",
   "execution_count": 33,
   "id": "9e30ab6d",
   "metadata": {},
   "outputs": [],
   "source": [
    "mask = out_monica['Crop']=='wheat/winter wheat'"
   ]
  },
  {
   "cell_type": "code",
   "execution_count": 36,
   "id": "3eba6b51",
   "metadata": {},
   "outputs": [],
   "source": [
    "wheat = out_monica.loc[mask]"
   ]
  },
  {
   "cell_type": "code",
   "execution_count": 153,
   "id": "3075cc42",
   "metadata": {},
   "outputs": [
    {
     "data": {
      "text/plain": [
       "<AxesSubplot:xlabel='Date'>"
      ]
     },
     "execution_count": 153,
     "metadata": {},
     "output_type": "execute_result"
    },
    {
     "data": {
      "image/png": "[encoded data removed]",
      "text/plain": [
       "<Figure size 640x480 with 1 Axes>"
      ]
     },
     "metadata": {},
     "output_type": "display_data"
    }
   ],
   "source": [
    "df_forecast.set_index('Date')['SOC_1'].plot()\n",
    "df_reanalysis.set_index('Date')['SOC_1'].plot()"
   ]
  },
  {
   "cell_type": "markdown",
   "id": "d2a237f4",
   "metadata": {},
   "source": [
    "## Meteo analytics"
   ]
  },
  {
   "cell_type": "code",
   "execution_count": 154,
   "id": "4364b029",
   "metadata": {},
   "outputs": [
    {
     "name": "stderr",
     "output_type": "stream",
     "text": [
      "/usr/local/lib/python3.7/dist-packages/ipykernel_launcher.py:1: FutureWarning: Dropping of nuisance columns in DataFrame reductions (with 'numeric_only=None') is deprecated; in a future version this will raise TypeError.  Select only valid columns before calling the reduction.\n",
      "  \"\"\"Entry point for launching an IPython kernel.\n"
     ]
    },
    {
     "data": {
      "text/plain": [
       "tavg        -2.585867\n",
       "tmin        -7.315885\n",
       "tmax         1.672181\n",
       "wind         0.329489\n",
       "globrad     10.560055\n",
       "precip       1.438020\n",
       "relhumid    87.867810\n",
       "dtype: float64"
      ]
     },
     "execution_count": 154,
     "metadata": {},
     "output_type": "execute_result"
    }
   ],
   "source": [
    "reanalysis.mean()"
   ]
  },
  {
   "cell_type": "code",
   "execution_count": 155,
   "id": "66b4e7a2",
   "metadata": {},
   "outputs": [
    {
     "name": "stderr",
     "output_type": "stream",
     "text": [
      "/usr/local/lib/python3.7/dist-packages/ipykernel_launcher.py:1: FutureWarning: Dropping of nuisance columns in DataFrame reductions (with 'numeric_only=None') is deprecated; in a future version this will raise TypeError.  Select only valid columns before calling the reduction.\n",
      "  \"\"\"Entry point for launching an IPython kernel.\n"
     ]
    },
    {
     "data": {
      "text/plain": [
       "tavg         6.316152\n",
       "tmin         1.522118\n",
       "tmax        11.332403\n",
       "wind         2.994043\n",
       "globrad     12.638206\n",
       "precip       1.337503\n",
       "relhumid    99.990000\n",
       "dtype: float64"
      ]
     },
     "execution_count": 155,
     "metadata": {},
     "output_type": "execute_result"
    }
   ],
   "source": [
    "forecast.mean()"
   ]
  },
  {
   "cell_type": "code",
   "execution_count": null,
   "id": "e8b17448",
   "metadata": {},
   "outputs": [],
   "source": []
  }
 ],
 "metadata": {
  "kernelspec": {
   "display_name": "Python 3 (ipykernel)",
   "language": "python",
   "name": "python3"
  },
  "language_info": {
   "codemirror_mode": {
    "name": "ipython",
    "version": 3
   },
   "file_extension": ".py",
   "mimetype": "text/x-python",
   "name": "python",
   "nbconvert_exporter": "python",
   "pygments_lexer": "ipython3",
   "version": "3.7.3"
  }
 },
 "nbformat": 4,
 "nbformat_minor": 5
}
