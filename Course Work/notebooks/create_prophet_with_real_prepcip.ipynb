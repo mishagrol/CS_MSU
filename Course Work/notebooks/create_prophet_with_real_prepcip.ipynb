{
 "cells": [
  {
   "cell_type": "markdown",
   "id": "1a876683",
   "metadata": {},
   "source": [
    "## Replace forecast in prophet into real precip"
   ]
  },
  {
   "cell_type": "code",
   "execution_count": 1,
   "id": "5cbd97a4",
   "metadata": {},
   "outputs": [],
   "source": [
    "import pandas as pd\n",
    "import os"
   ]
  },
  {
   "cell_type": "code",
   "execution_count": 2,
   "id": "307d318a",
   "metadata": {},
   "outputs": [],
   "source": [
    "p_fname='../monica/prediction_monica.csv'\n",
    "era5_fname = '../monica/reanalysis.csv'"
   ]
  },
  {
   "cell_type": "code",
   "execution_count": 16,
   "id": "5a071170",
   "metadata": {},
   "outputs": [],
   "source": [
    "def weather_to_monica(src: str, dst: str, \n",
    "                      use_real_precip: bool = False,\n",
    "                      reanalysis: str = '../monica/reanalysis.csv'): \n",
    "    weather = pd.read_csv(src)\n",
    "    \n",
    "    if use_real_precip: \n",
    "        era5 = pd.read_csv(reanalysis)\n",
    "        if len(era5)!=len(weather):\n",
    "            raise ValueError('Size of era5 and forecast should be equal')\n",
    "        weather.loc[:, 'precip'] = era5.loc[:, 'precip']\n",
    "    weather.loc[:, 'de-date'] = pd.to_datetime(weather['de-date'])\n",
    "    mask = weather['de-date']<'31.12.2017'\n",
    "    weather = weather.loc[mask]\n",
    "    weather['de-date'] = pd.to_datetime(weather['de-date']).dt.strftime('%d.%m.%Y')\n",
    "    mask = weather['relhumid']>100\n",
    "    weather.loc[mask, 'relhumid']=99.99\n",
    "#     weather.round(2).to_csv(dst, sep=';', index=False)\n",
    "    return weather"
   ]
  },
  {
   "cell_type": "code",
   "execution_count": 17,
   "id": "0b815948",
   "metadata": {},
   "outputs": [],
   "source": [
    "era5 = weather_to_monica(src=era5_fname, dst='')\n",
    "p_df = weather_to_monica(src=p_fname, dst='')\n",
    "p_df_era5 = weather_to_monica(src=p_fname, dst='', use_real_precip=True)"
   ]
  },
  {
   "cell_type": "code",
   "execution_count": 18,
   "id": "2d3826bc",
   "metadata": {},
   "outputs": [
    {
     "data": {
      "text/plain": [
       "1464.5658472398536"
      ]
     },
     "execution_count": 18,
     "metadata": {},
     "output_type": "execute_result"
    }
   ],
   "source": [
    "p_df['precip'].sum()"
   ]
  },
  {
   "cell_type": "code",
   "execution_count": 19,
   "id": "1b9b5699",
   "metadata": {},
   "outputs": [
    {
     "data": {
      "text/plain": [
       "2216.0"
      ]
     },
     "execution_count": 19,
     "metadata": {},
     "output_type": "execute_result"
    }
   ],
   "source": [
    "p_df_era5['precip'].sum()"
   ]
  },
  {
   "cell_type": "code",
   "execution_count": 20,
   "id": "6204d684",
   "metadata": {},
   "outputs": [
    {
     "data": {
      "text/plain": [
       "2216.0"
      ]
     },
     "execution_count": 20,
     "metadata": {},
     "output_type": "execute_result"
    }
   ],
   "source": [
    "era5.precip.sum()"
   ]
  },
  {
   "cell_type": "code",
   "execution_count": 5,
   "id": "90d70d52",
   "metadata": {},
   "outputs": [],
   "source": [
    "use_real_precip= None\n",
    "if use_real_precip:\n",
    "    print('d')"
   ]
  },
  {
   "cell_type": "code",
   "execution_count": 10,
   "id": "0ed44411",
   "metadata": {},
   "outputs": [
    {
     "data": {
      "text/html": [
       "<div>\n",
       "<style scoped>\n",
       "    .dataframe tbody tr th:only-of-type {\n",
       "        vertical-align: middle;\n",
       "    }\n",
       "\n",
       "    .dataframe tbody tr th {\n",
       "        vertical-align: top;\n",
       "    }\n",
       "\n",
       "    .dataframe thead th {\n",
       "        text-align: right;\n",
       "    }\n",
       "</style>\n",
       "<table border=\"1\" class=\"dataframe\">\n",
       "  <thead>\n",
       "    <tr style=\"text-align: right;\">\n",
       "      <th></th>\n",
       "      <th>de-date</th>\n",
       "      <th>tavg</th>\n",
       "      <th>tmin</th>\n",
       "      <th>tmax</th>\n",
       "      <th>wind</th>\n",
       "      <th>globrad</th>\n",
       "      <th>precip</th>\n",
       "      <th>relhumid</th>\n",
       "    </tr>\n",
       "  </thead>\n",
       "  <tbody>\n",
       "    <tr>\n",
       "      <th>0</th>\n",
       "      <td>01.01.2015</td>\n",
       "      <td>-8.40</td>\n",
       "      <td>-13.63</td>\n",
       "      <td>-4.55</td>\n",
       "      <td>4.55</td>\n",
       "      <td>1.57</td>\n",
       "      <td>1.00</td>\n",
       "      <td>96.81</td>\n",
       "    </tr>\n",
       "    <tr>\n",
       "      <th>1</th>\n",
       "      <td>02.01.2015</td>\n",
       "      <td>-2.18</td>\n",
       "      <td>-4.57</td>\n",
       "      <td>-0.70</td>\n",
       "      <td>5.08</td>\n",
       "      <td>1.51</td>\n",
       "      <td>1.27</td>\n",
       "      <td>97.00</td>\n",
       "    </tr>\n",
       "    <tr>\n",
       "      <th>2</th>\n",
       "      <td>03.01.2015</td>\n",
       "      <td>-0.37</td>\n",
       "      <td>-2.44</td>\n",
       "      <td>0.62</td>\n",
       "      <td>6.26</td>\n",
       "      <td>2.32</td>\n",
       "      <td>1.20</td>\n",
       "      <td>96.25</td>\n",
       "    </tr>\n",
       "    <tr>\n",
       "      <th>3</th>\n",
       "      <td>04.01.2015</td>\n",
       "      <td>-1.85</td>\n",
       "      <td>-4.76</td>\n",
       "      <td>-0.26</td>\n",
       "      <td>6.07</td>\n",
       "      <td>1.53</td>\n",
       "      <td>0.58</td>\n",
       "      <td>95.75</td>\n",
       "    </tr>\n",
       "    <tr>\n",
       "      <th>4</th>\n",
       "      <td>05.01.2015</td>\n",
       "      <td>-5.77</td>\n",
       "      <td>-12.23</td>\n",
       "      <td>-2.49</td>\n",
       "      <td>3.46</td>\n",
       "      <td>1.80</td>\n",
       "      <td>1.21</td>\n",
       "      <td>95.56</td>\n",
       "    </tr>\n",
       "    <tr>\n",
       "      <th>...</th>\n",
       "      <td>...</td>\n",
       "      <td>...</td>\n",
       "      <td>...</td>\n",
       "      <td>...</td>\n",
       "      <td>...</td>\n",
       "      <td>...</td>\n",
       "      <td>...</td>\n",
       "      <td>...</td>\n",
       "    </tr>\n",
       "    <tr>\n",
       "      <th>1090</th>\n",
       "      <td>26.12.2017</td>\n",
       "      <td>-3.25</td>\n",
       "      <td>-10.51</td>\n",
       "      <td>0.81</td>\n",
       "      <td>4.48</td>\n",
       "      <td>1.58</td>\n",
       "      <td>1.44</td>\n",
       "      <td>98.19</td>\n",
       "    </tr>\n",
       "    <tr>\n",
       "      <th>1091</th>\n",
       "      <td>27.12.2017</td>\n",
       "      <td>0.58</td>\n",
       "      <td>0.03</td>\n",
       "      <td>0.98</td>\n",
       "      <td>3.96</td>\n",
       "      <td>0.91</td>\n",
       "      <td>0.49</td>\n",
       "      <td>98.12</td>\n",
       "    </tr>\n",
       "    <tr>\n",
       "      <th>1092</th>\n",
       "      <td>28.12.2017</td>\n",
       "      <td>-0.07</td>\n",
       "      <td>-1.02</td>\n",
       "      <td>1.23</td>\n",
       "      <td>2.14</td>\n",
       "      <td>1.86</td>\n",
       "      <td>0.35</td>\n",
       "      <td>98.06</td>\n",
       "    </tr>\n",
       "    <tr>\n",
       "      <th>1093</th>\n",
       "      <td>29.12.2017</td>\n",
       "      <td>0.73</td>\n",
       "      <td>-0.99</td>\n",
       "      <td>1.94</td>\n",
       "      <td>4.56</td>\n",
       "      <td>2.54</td>\n",
       "      <td>0.34</td>\n",
       "      <td>97.81</td>\n",
       "    </tr>\n",
       "    <tr>\n",
       "      <th>1094</th>\n",
       "      <td>30.12.2017</td>\n",
       "      <td>-0.72</td>\n",
       "      <td>-1.94</td>\n",
       "      <td>0.49</td>\n",
       "      <td>4.77</td>\n",
       "      <td>1.07</td>\n",
       "      <td>1.50</td>\n",
       "      <td>95.25</td>\n",
       "    </tr>\n",
       "  </tbody>\n",
       "</table>\n",
       "<p>1095 rows × 8 columns</p>\n",
       "</div>"
      ],
      "text/plain": [
       "         de-date  tavg   tmin  tmax  wind  globrad  precip  relhumid\n",
       "0     01.01.2015 -8.40 -13.63 -4.55  4.55     1.57    1.00     96.81\n",
       "1     02.01.2015 -2.18  -4.57 -0.70  5.08     1.51    1.27     97.00\n",
       "2     03.01.2015 -0.37  -2.44  0.62  6.26     2.32    1.20     96.25\n",
       "3     04.01.2015 -1.85  -4.76 -0.26  6.07     1.53    0.58     95.75\n",
       "4     05.01.2015 -5.77 -12.23 -2.49  3.46     1.80    1.21     95.56\n",
       "...          ...   ...    ...   ...   ...      ...     ...       ...\n",
       "1090  26.12.2017 -3.25 -10.51  0.81  4.48     1.58    1.44     98.19\n",
       "1091  27.12.2017  0.58   0.03  0.98  3.96     0.91    0.49     98.12\n",
       "1092  28.12.2017 -0.07  -1.02  1.23  2.14     1.86    0.35     98.06\n",
       "1093  29.12.2017  0.73  -0.99  1.94  4.56     2.54    0.34     97.81\n",
       "1094  30.12.2017 -0.72  -1.94  0.49  4.77     1.07    1.50     95.25\n",
       "\n",
       "[1095 rows x 8 columns]"
      ]
     },
     "execution_count": 10,
     "metadata": {},
     "output_type": "execute_result"
    }
   ],
   "source": [
    "era5"
   ]
  },
  {
   "cell_type": "code",
   "execution_count": null,
   "id": "3043b6cd",
   "metadata": {},
   "outputs": [],
   "source": []
  }
 ],
 "metadata": {
  "kernelspec": {
   "display_name": "Python 3 (ipykernel)",
   "language": "python",
   "name": "python3"
  },
  "language_info": {
   "codemirror_mode": {
    "name": "ipython",
    "version": 3
   },
   "file_extension": ".py",
   "mimetype": "text/x-python",
   "name": "python",
   "nbconvert_exporter": "python",
   "pygments_lexer": "ipython3",
   "version": "3.7.3"
  }
 },
 "nbformat": 4,
 "nbformat_minor": 5
}
