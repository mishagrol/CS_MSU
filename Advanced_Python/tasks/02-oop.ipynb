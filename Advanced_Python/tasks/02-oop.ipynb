{
 "cells": [
  {
   "cell_type": "markdown",
   "metadata": {},
   "source": [
    "## Домашнее задание №2 (курс \"Практикум по программированию на языке Python\")"
   ]
  },
  {
   "cell_type": "markdown",
   "metadata": {},
   "source": [
    "### Тема: Объектно-ориентированное программирование на языке Python.\n",
    "\n",
    "#### Преподаватель: Мурат Апишев (mel-lain@yandex.ru)\n",
    "\n",
    "**Выдана**:   21 марта 2022\n",
    "\n",
    "**Дедлайн**:   21:00 04 апреля 2021\n",
    "\n",
    "**Среда выполнения**: Jupyter Notebook (Python 3.7)\n",
    "\n",
    "#### Правила:\n",
    "\n",
    "Результат выполнения задания - Jupyter Notebook с кодом и подробными ответами в случае теоретических вопросов. __Максимальное число баллов за задание - 20__.\n",
    "\n",
    "Все ячейки должны быть \"выполненными\", при этом результат должен воспроизводиться при проверке (на Python 3.7). Если какой-то код не был запущен или отрабатывает с ошибками, то пункт не засчитывается. Задание, сданное после дедлайна, _не принимается_. Можно отправить недоделанное задание, выполненные пункты будут оценены.\n",
    "\n",
    "Готовое задание отправляется на почту преподавателя.\n",
    "\n",
    "Задание выполняется самостоятельно. Если какие-то студенты будут уличены в списывании, все они автоматически получат за эту работу 0 баллов. Если вы нашли в Интернете какой-то специфичный код, который собираетесь заимствовать, обязательно укажите это в задании - наверняка вы не единственный, кто найдёт и использует эту информацию.\n",
    "\n",
    "Удалять фрагменты формулировок заданий запрещается."
   ]
  },
  {
   "cell_type": "markdown",
   "metadata": {},
   "source": [
    "#### Постановка задачи:\n",
    "\n",
    "- В данной работе нужно\n",
    "    - ответить на ряд теоретических вопросов;\n",
    "    - решить набор задач, проверяющих владение ООП-инструментами языка;\n",
    "    - решить задачу на проектирование кода.\n",
    "- Ответы на теоретические вопросы должны быть полными и обоснованными.\n",
    "- Каждая задача представляет собой написание функции или класса, а также набора тестов, проверяющих работу решения в общих и крайних случаях.\n",
    "- Отсутствие тестов автоматически уменьшает количество баллов за задание как минимум в два раза, некачественные тесты также будут штрафоваться.\n",
    "- Даже если это не указано явно в требованиях, код должен быть по возможности неизбыточным, работать с разумной сложностью и объёмом потребялемой памяти, проверяющие могут снизить балл за задание, выполненное без учёта этого требования.\n",
    "- Результирующий код должен быть читаемым, с единой системой отступов и адеквантными названиями переменных, проверяющие могут снизить балл за задание, выполненное без учёта этого требования."
   ]
  },
  {
   "cell_type": "markdown",
   "metadata": {},
   "source": [
    "__Задание 1 (2 балла):__ Дайте подробные ответы на следующие вопросы:\n",
    "\n",
    "1. В чём смысл инкапсуляции? Приведите пример конкретной ситуации в коде, в которой нарушение инкапсуляции приводит к проблемам.\n",
    "2. Какой метод называется статическим? Что такое параметр `self`?\n",
    "3. В чём отличия методов `__new__` и `__init__`?\n",
    "4. Какие виды отношений классов вы знаете? Для каждого приведите примеры. Укажите взаимные различия.\n",
    "5. Зачем нужны фабрики? Опишите смысл использования фабричного метода, фабрики и абстрактной фабрики, а также их взаимные отличия."
   ]
  },
  {
   "cell_type": "markdown",
   "source": [
    "* 1 - Доступ к данным класса осуществляется только внутри класса, нельзя получить доступ и изменять поля из вне, чтобы избежать изменений данных которые приведут к ошибке, как в этом примере:\n",
    "\n",
    "```python\n",
    "class Salary:\n",
    "    def __init__(self, full_salary):\n",
    "        self.full_salary = full_salary\n",
    "        self.tax = 0.13\n",
    "\n",
    "    def calculate(self):\n",
    "        return self.full_salary * (1 - self.tax)\n",
    "\n",
    "\n",
    "s1 = Salary(1000)\n",
    "print(s1.calculate()) # 870\n",
    "\n",
    "# Нарушение инкапсуляции\n",
    "s1.tax = 0.5\n",
    "print(s1.calculate()) # 500\n",
    "```\n",
    "\n",
    "* 2 - Метод называется статическим, если он не зависит и не изменяет состояние объекта класса, в таких методах не передается первым параметром self, тем самым эти методы можно вызывать без создания объекта.\n",
    "self ссылка объект класса внутри этого класса.\n",
    "* 3 - <b>new</b> статический метод который создает объект, а <b>init</b> получает на вход этот объект и инициализирует его атрибуты.\n",
    "* 4 -\n",
    "\n",
    "<b>Вертикальные отношения</b>\n",
    "\n",
    "Наследование - класс наследует класс\n",
    "\n",
    "<i>От класса Машина имеющего: 4 колеса, двигатель и руль, наследуем класс Гоночная_Машина имеющий все атрибуты класса Машина, а также собственные атрибуты: система закиси азота, спойлер.</i>\n",
    "\n",
    "Реализация - класс реализует интерфейс\n",
    "\n",
    "<i>Есть класс интефрейс Машина, без реализации методов для ее передвижения. Если мы наследуемся от этого класса мы обязаны имплементриовать все методы ее передвижения в классе наследнике</i>\n",
    "\n",
    "<b>Горизонтальные отношения</b>\n",
    "\n",
    "Ассоциация - горизонтальная связь между объектами двух классов (может быть “один ко многим”)\n",
    "\n",
    "<i>Есть класс Позиция и есть класс Зарпалата могут включать друг друга в качестве полей, а могут не включать:)</i>\n",
    "\n",
    "Композиция - вложенность объекта одного класса в другой (главный управляет жизненным циклом зависимого)\n",
    "\n",
    "<i>Класс МГУ и класс ВМК. При удалении класса МГУ, ВМК тоже удалится, т.к. не сможет существовать без МГУ. Обратное не верно.</i>\n",
    "\n",
    "Агрегация - вложенность объекта одного класса в другой (объекты остаются независимыми)\n",
    "\n",
    "<i>Класс Книжная_Полка, класс Книга. При удалении класса Книга или класса Книжная_Полка, второй класс остается.</i>\n",
    "\n",
    "* 5 - Фабрики нужны для создания объектов с помощью других сущностей.\n",
    "\n",
    "Простая фабрика - используется для создания объектов других классов в зависимости от условий.\n",
    "\n",
    "Фабричный метод - используется при определении общиего интерфейса для создания объектов в суперклассе позволяя подклассам изменять тип создаваемых объектов.\n",
    "\n",
    "Абстрактная фабрика -  используется при создании семейства связанных объектов не привязываясь к конкретным классам создаваемых объектов."
   ],
   "metadata": {
    "collapsed": false,
    "pycharm": {
     "name": "#%% md\n"
    }
   }
  },
  {
   "cell_type": "markdown",
   "metadata": {},
   "source": [
    "__Задание 2 (1 балл):__ Опишите класс комплексных чисел. У пользователя должна быть возможность создать его объект на основе числа и в алгебраической форме, и в полярной. Класс должен поддерживать основные математические операции (+, -, \\*, /) за счет перегрузки соответствующих магических методов. Также он должен поддерживать возможность получить число в алгебраической и полярной форме. Допускается использование модуля `math`."
   ]
  },
  {
   "cell_type": "code",
   "execution_count": 1,
   "outputs": [],
   "source": [
    "def check_last():\n",
    "    with open('temp.txt', 'w') as fout:\n",
    "        fout.write(In[len(In)-2])\n",
    "    !mypy temp.txt"
   ],
   "metadata": {
    "collapsed": false,
    "pycharm": {
     "name": "#%%\n"
    }
   }
  },
  {
   "cell_type": "code",
   "execution_count": 5,
   "metadata": {},
   "outputs": [],
   "source": [
    "from __future__ import annotations\n",
    "from math import atan, sin, cos\n",
    "from typing import Optional,  Literal, Union, List\n",
    "\n",
    "\n",
    "class ComplexNumber:\n",
    "    def __init__(self, num_type: Literal['Algebraic', 'Polar'], a: Union[int, float], b: Union[int, float]):\n",
    "        self.num_type = num_type\n",
    "        if num_type == 'Algebraic':\n",
    "            self._real_part = a\n",
    "            self._imaginary_part = b\n",
    "        elif num_type == 'Polar':\n",
    "            self._real_part = a * sin(b)\n",
    "            self._imaginary_part = a * cos(b)\n",
    "\n",
    "    def __add__(self, other: ComplexNumber) -> ComplexNumber:\n",
    "        if isinstance(other, ComplexNumber):\n",
    "            return ComplexNumber(\n",
    "                'Algebraic',\n",
    "                self._real_part + other._real_part,\n",
    "                self._imaginary_part + other._imaginary_part\n",
    "            )\n",
    "        else:\n",
    "            raise TypeError(\"Must be complex number\")\n",
    "\n",
    "    def __sub__(self, other: ComplexNumber) -> ComplexNumber:\n",
    "        if isinstance(other, ComplexNumber):\n",
    "            return ComplexNumber(\n",
    "                'Algebraic',\n",
    "                self._real_part - other._real_part,\n",
    "                self._imaginary_part - other._imaginary_part\n",
    "            )\n",
    "        else:\n",
    "            raise TypeError(\"Must be complex number\")\n",
    "\n",
    "    def __mul__(self, other: ComplexNumber) -> ComplexNumber:\n",
    "        if isinstance(other, ComplexNumber):\n",
    "            return ComplexNumber(\n",
    "                'Algebraic',\n",
    "                self._real_part * other._real_part - self._imaginary_part * other._imaginary_part,\n",
    "                self._real_part * other._imaginary_part + self._imaginary_part * other._real_part\n",
    "            )\n",
    "        else:\n",
    "            raise TypeError(\"Must be complex number\")\n",
    "\n",
    "    def __truediv__(self, other: ComplexNumber) -> ComplexNumber:\n",
    "        if isinstance(other, ComplexNumber):\n",
    "            if other._real_part == 0 and other._imaginary_part == 0:\n",
    "                raise ZeroDivisionError(\"Division by zero\")\n",
    "            return ComplexNumber(\n",
    "                'Algebraic',\n",
    "                (self._real_part * other._real_part + self._imaginary_part * other._imaginary_part) /\n",
    "                (other._real_part ** 2 + other._imaginary_part ** 2),\n",
    "                (self._real_part * other._imaginary_part - self._imaginary_part * other._real_part) /\n",
    "                (other._real_part ** 2 + other._imaginary_part ** 2)\n",
    "            )\n",
    "        else:\n",
    "            raise TypeError(\"Must be complex number\")\n",
    "\n",
    "    def __repr__(self) -> str:\n",
    "        return f\"type: Algebraic\\n\" \\\n",
    "               f\"Real-Part: {self._real_part}\\n\" \\\n",
    "               f\"Imaginary_Part: {self._imaginary_part}\\n\"\n",
    "\n",
    "    def __str__(self) -> str:\n",
    "        return f\"type: Algebraic\\n\" \\\n",
    "               f\"Real-Part: {self._real_part}\\n\" \\\n",
    "               f\"Imaginary_Part: {self._imaginary_part}\\n\"\n",
    "\n",
    "    def to_polar(self) -> None:\n",
    "        print (\n",
    "            f\"type: Polar\\n\"\n",
    "            f\"Magnitude: {(self._real_part ** 2 + self._imaginary_part ** 2) ** 0.5}\\n\"\n",
    "            f\"Angle: {atan(self._imaginary_part / self._real_part)}\\n\"\n",
    "        )"
   ]
  },
  {
   "cell_type": "code",
   "execution_count": 6,
   "outputs": [
    {
     "name": "stdout",
     "output_type": "stream",
     "text": [
      "\u001B[1m\u001B[32mSuccess: no issues found in 1 source file\u001B[m\r\n"
     ]
    }
   ],
   "source": [
    "check_last()"
   ],
   "metadata": {
    "collapsed": false,
    "pycharm": {
     "name": "#%%\n"
    }
   }
  },
  {
   "cell_type": "code",
   "execution_count": 9,
   "outputs": [
    {
     "name": "stdout",
     "output_type": "stream",
     "text": [
      "Division by zero\n",
      "\n",
      "type: Algebraic\n",
      "Real-Part: 5\n",
      "Imaginary_Part: -2\n",
      "\n",
      "type: Algebraic\n",
      "Real-Part: 3\n",
      "Imaginary_Part: 4\n",
      "\n",
      "type: Algebraic\n",
      "Real-Part: 9\n",
      "Imaginary_Part: 3\n",
      "\n",
      "type: Algebraic\n",
      "Real-Part: 1.0\n",
      "Imaginary_Part: -1.0\n",
      "\n",
      "type: Polar\n",
      "Magnitude: 5.0\n",
      "Angle: 0.6435011087932844\n",
      "\n",
      "type: Algebraic\n",
      "Real-Part: 3.0\n",
      "Imaginary_Part: 4.0\n",
      "\n",
      "Must be complex number\n"
     ]
    }
   ],
   "source": [
    "# Division by zero\n",
    "try:\n",
    "    ComplexNumber('Algebraic', 1, 2) / ComplexNumber('Algebraic', 0, 0)\n",
    "except Exception as e:\n",
    "    print(e)\n",
    "    print()\n",
    "\n",
    "# (1 + 3i) + (4 - 5i) = (5 - 2i)\n",
    "print(ComplexNumber('Algebraic', 1, 3) + ComplexNumber('Algebraic', 4, -5))\n",
    "\n",
    "# (5 + 3i) - (2 - i) = (3 + 4i)\n",
    "print(ComplexNumber('Algebraic', 5, 3) - ComplexNumber('Algebraic', 2, -1))\n",
    "\n",
    "# (1 - i) * (3 + 6i) = (9 + 3i)\n",
    "print(ComplexNumber('Algebraic', 1, -1) * ComplexNumber('Algebraic', 3, 6))\n",
    "\n",
    "# (13 + i) / (7 - 6i) = (1 - i)\n",
    "print(ComplexNumber('Algebraic', 13, 1) / ComplexNumber('Algebraic', 7, -6))\n",
    "\n",
    "# Algebraic(4, 3) == Polar(5, 0.64)\n",
    "ComplexNumber('Algebraic', 4, 3).to_polar()\n",
    "\n",
    "# Polar(5, 0.64) == Algebraic(4, 3)\n",
    "print(ComplexNumber('Polar', 5, 0.6435011087932844))\n",
    "\n",
    "# # Operation over different types\n",
    "try:\n",
    "    ComplexNumber('Algebraic', 1, 2) + 1\n",
    "except Exception as e:\n",
    "    print(e)"
   ],
   "metadata": {
    "collapsed": false,
    "pycharm": {
     "name": "#%%\n"
    }
   }
  },
  {
   "cell_type": "markdown",
   "metadata": {},
   "source": [
    "__Задание 3 (2 балла):__ Опишите класс для векторов в N-мерном пространстве. В качестве основы  используйте список значений координат вектора, задаваемый `list`. Обеспечьте поддержку следующих операций: сложение, вычитание (с созданием нового вектора-результата), скалярное произведение, косинус угла, евклидова норма. Все операции, которые можно перегрузить с помощью магических методов, должны быть реализованы именно через них. Класс должен производить проверку консистентности аргументов для каждой операции и в случаях ошибок выбрасывать исключение `ValueError` с исчерпывающим объяснением ошибки."
   ]
  },
  {
   "cell_type": "code",
   "execution_count": 10,
   "metadata": {},
   "outputs": [],
   "source": [
    "from __future__ import annotations\n",
    "from typing import List, Union\n",
    "\n",
    "\n",
    "class Vector:\n",
    "    def __init__(self, vector_values_list: List[int]):\n",
    "        self._vector_values_list = vector_values_list\n",
    "        self._dim = len(vector_values_list)\n",
    "\n",
    "    def __add__(self, other: Vector) -> Vector:\n",
    "        if isinstance(other, Vector):\n",
    "            if self._dim != other._dim:\n",
    "                raise ValueError('Dimension mismatch')\n",
    "            return Vector(\n",
    "                [x + y for x, y in zip(self._vector_values_list, other._vector_values_list)]\n",
    "            )\n",
    "        else:\n",
    "            raise TypeError(\"Must be Vector\")\n",
    "\n",
    "    def __sub__(self, other: Vector) -> Vector:\n",
    "        if isinstance(other, Vector):\n",
    "            if self._dim != other._dim:\n",
    "                raise ValueError('Dimension mismatch')\n",
    "            return Vector(\n",
    "                [x - y for x, y in zip(self._vector_values_list, other._vector_values_list)]\n",
    "            )\n",
    "        else:\n",
    "            raise TypeError(\"Must be Vector\")\n",
    "\n",
    "    def __repr__(self) -> str:\n",
    "        return f\"Vector coordinates: {self._vector_values_list}\"\n",
    "\n",
    "    def __str__(self) -> str:\n",
    "        return f\"Vector coordinates: {self._vector_values_list}\"\n",
    "\n",
    "    def dot(self, other: Vector) -> Union[int, float]:\n",
    "        if isinstance(other, Vector):\n",
    "            if self._dim != other._dim:\n",
    "                raise ValueError('Dimension mismatch')\n",
    "            return sum([x * y for x, y in zip(self._vector_values_list, other._vector_values_list)])\n",
    "        else:\n",
    "            raise TypeError(\"Must be Vector\")\n",
    "\n",
    "    def cos_alpha(self, other: Vector) -> Union[int, float]:\n",
    "        if isinstance(other, Vector):\n",
    "            if self._dim != other._dim:\n",
    "                raise ValueError('Dimension mismatch')\n",
    "            l2_x = self.l2_norm()\n",
    "            l2_y = other.l2_norm()\n",
    "            if l2_x == 0 or l2_y == 0:\n",
    "                raise ZeroDivisionError(\"Division by zero\")\n",
    "            return self.dot(other) / (l2_x * l2_y)\n",
    "        else:\n",
    "            raise TypeError(\"Must be Vector\")\n",
    "\n",
    "    def l2_norm(self) -> Union[int, float]:\n",
    "        return sum([x * x for x in self._vector_values_list]) ** 0.5"
   ]
  },
  {
   "cell_type": "code",
   "execution_count": 11,
   "outputs": [
    {
     "name": "stdout",
     "output_type": "stream",
     "text": [
      "\u001B[1m\u001B[32mSuccess: no issues found in 1 source file\u001B[m\r\n"
     ]
    }
   ],
   "source": [
    "check_last()"
   ],
   "metadata": {
    "collapsed": false,
    "pycharm": {
     "name": "#%%\n"
    }
   }
  },
  {
   "cell_type": "code",
   "execution_count": 12,
   "outputs": [
    {
     "name": "stdout",
     "output_type": "stream",
     "text": [
      "Vector coordinates: [3, 1, 7]\n",
      "Vector coordinates: [-1, 3, -1]\n",
      "12\n",
      "12\n",
      "L2 norm for x: 3.7416573867739413\n",
      "L2 norm for y: 4.58257569495584\n",
      "0.6998542122237653\n",
      "0.6998542122237653\n",
      "Dimension mismatch\n",
      "Division by zero\n",
      "Must be Vector\n"
     ]
    }
   ],
   "source": [
    "# Vectors\n",
    "# x = [1, 2, 3]\n",
    "# y = [2, -1, 4]\n",
    "x = Vector([1, 2, 3])\n",
    "y = Vector([2, -1, 4])\n",
    "\n",
    "# x + y = [3, 1, 7]\n",
    "print(x + y)\n",
    "\n",
    "# x - y = [-1, 3, -1]\n",
    "print(x - y)\n",
    "\n",
    "# Scalar multiplication\n",
    "# x * y = [2 - 2 + 12] = 12\n",
    "print(x.dot(y))\n",
    "print(y.dot(x))\n",
    "\n",
    "# Euclidean norm:\n",
    "# x = sqrt(14) ~ 3.74\n",
    "# y = sqrt(21) ~ 4.58\n",
    "print(f\"L2 norm for x: {x.l2_norm()}\")\n",
    "print(f\"L2 norm for y: {y.l2_norm()}\")\n",
    "\n",
    "# Cosine between two vectors x and y\n",
    "# x * y / (l2(x) * l2(y))\n",
    "# 12 / (3.7416573867739413 * 4.58257569495584) = 0.6998542122237653\n",
    "print(x.cos_alpha(y))\n",
    "print(y.cos_alpha(x))\n",
    "\n",
    "# Different dimensions\n",
    "try:\n",
    "    x + Vector([1, 2, 3, 4])\n",
    "except Exception as e:\n",
    "    print(e)\n",
    "\n",
    "# Zero vector length\n",
    "try:\n",
    "    x.cos_alpha(Vector([0, 0, 0]))\n",
    "except Exception as e:\n",
    "    print(e)\n",
    "\n",
    "# Operation over different types\n",
    "try:\n",
    "    x + 1\n",
    "except Exception as e:\n",
    "    print(e)"
   ],
   "metadata": {
    "collapsed": false,
    "pycharm": {
     "name": "#%%\n"
    }
   }
  },
  {
   "cell_type": "markdown",
   "metadata": {},
   "source": [
    "__Задание 4 (2 балл):__ Опишите декоратор, который принимает на вход функцию и при каждом её вызове печатает строку \"This function was called N times\", где N - число раз, которое это функция была вызвана на текущий момент (пока функция существует как объект, это число, очевидно, может только неубывать)."
   ]
  },
  {
   "cell_type": "code",
   "execution_count": 16,
   "metadata": {},
   "outputs": [],
   "source": [
    "# Information used:\n",
    "# https://stackoverflow.com/questions/21716940/is-there-a-way-to-track-the-number-of-times-a-function-is-called\n",
    "\n",
    "\n",
    "def calls_counter(func):\n",
    "    def wrapped(*args, **kwargs):\n",
    "        wrapped.count += 1\n",
    "        print(f\"This function was called {empty_func.count} times\")\n",
    "        return func(*args, **kwargs)\n",
    "    wrapped.count = 0\n",
    "    return wrapped\n",
    "\n",
    "\n",
    "@calls_counter\n",
    "def empty_func():\n",
    "    pass\n",
    "\n",
    "# Call decorated function 5 times\n",
    "for i in range(0, 5):\n",
    "    empty_func()"
   ]
  },
  {
   "cell_type": "markdown",
   "metadata": {},
   "source": [
    "__Задание 5 (3 балла):__ Опишите декоратор класса, который принимает на вход другой класс и снабжает декорируемый класс всеми атрибутами входного класса, названия которых НЕ начинаются с \"\\_\". В случае конфликтов имён импортируемый атрибут должен получить имя с суффиксом \"\\_new\"."
   ]
  },
  {
   "cell_type": "code",
   "execution_count": null,
   "metadata": {},
   "outputs": [],
   "source": [
    "def copy_class_attrs(cls):\n",
    "    pass"
   ]
  },
  {
   "cell_type": "markdown",
   "metadata": {},
   "source": [
    "__Задание 6 (5 баллов):__ Опишите класс для хранения двумерных числовых матриц на основе списков. Реализуйте поддержку индексирования, итерирования по столбцам и строкам, по-элементные математические операции (с помощью магических методов), операцию умножения матрицы (как метод `dot` класса), транспонирование, поиска следа матрицы, а также поиск значения её определителя, если он существует, в противном случае соответствующий метод должен выводить сообщение об ошибке и возвращать `None`.\n",
    "\n",
    "Матрицу должно быть возможным создать из списка (в этом случае у неё будет одна строка), списка списков, или же передав явно три числа: число строк, число столбцов и значение по-умолчанию (которое можно не задавать, в этом случае оно принимается равным нулю). Все операции должны проверять корректность входных данных и выбрасывать исключение с информативным сообщением в случае ошибки.\n",
    "\n",
    "Матрица должна поддерживать методы сохранения на диск в текстовом и бинарном файле и методы обратной загрузки с диска для обоих вариантов. Также она должна поддерживать метод полного копирования. Обе процедуры должны быть реализованы с помощью шаблона \"примесь\" (Mixin), т.е. указанные функциональности должны быть описаны в специализированных классах.\n",
    "\n",
    "В реализации математических операций запрещается пользоваться любыми функциями, требующими использования оператора `import`."
   ]
  },
  {
   "cell_type": "code",
   "execution_count": null,
   "metadata": {},
   "outputs": [],
   "source": [
    "class Matrix:\n",
    "    pass"
   ]
  },
  {
   "cell_type": "markdown",
   "metadata": {},
   "source": [
    "__Задание 7 (5 баллов):__ Ставится задача расчета стоимости чашки кофе. Опишите классы нескольких типов кофе (латте, капучино, американо), а также классы добавок к кофе (сахар, сливки, кардамон, пенка, сироп). Используйте шаблон \"декоратор\". Каждый класс должен характеризоваться методом вычисления стоимости чашки `calculate_cost`. Пользователь должен иметь возможность комбинировать любое число добавок с выбранным кофе и получить на выходе общую стоимость:\n",
    "\n",
    "```\n",
    "Cream(Sugar(Latte())).calculate_cost()\n",
    "```\n",
    "\n",
    "Первым элементом чашки всегда должен быть сам кофе, а не добавка, в противном случае при попытке создания чашки должно выбрасываться исключение:\n",
    "\n",
    "```\n",
    "Cream(Latte(Sugar())).calculate_cost() -> exception\n",
    "```\n",
    "\n",
    "Кофе может встречаться в чашке только один раз, в противном случае при попытке создания чашки должно выбрасываться исключение:\n",
    "\n",
    "```\n",
    "Cappuccino(Sugar(Latte())).calculate_cost() -> exception\n",
    "```\n",
    "\n",
    "Добавки могут включаться в чашку в любом количестве и порядке.\n",
    "Добавление новых типов кофе и добавок не должно требовать изменения существующего кода."
   ]
  }
 ],
 "metadata": {
  "kernelspec": {
   "display_name": "Python 3",
   "language": "python",
   "name": "python3"
  },
  "language_info": {
   "codemirror_mode": {
    "name": "ipython",
    "version": 3
   },
   "file_extension": ".py",
   "mimetype": "text/x-python",
   "name": "python",
   "nbconvert_exporter": "python",
   "pygments_lexer": "ipython3",
   "version": "3.7.3"
  }
 },
 "nbformat": 4,
 "nbformat_minor": 2
}