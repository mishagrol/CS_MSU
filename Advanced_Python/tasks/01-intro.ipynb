{
 "cells": [
  {
   "cell_type": "markdown",
   "metadata": {},
   "source": [
    "## Домашнее задание №1 (курс \"Практикум по программированию на языке Python\")"
   ]
  },
  {
   "cell_type": "markdown",
   "metadata": {},
   "source": [
    "### Тема: Введение в язык Python.\n",
    "\n",
    "**Автор**: Мурат Апишев\n",
    "\n",
    "**Выдана**:   18 февраля 2022\n",
    "\n",
    "**Дедлайн**:  21:00 3 марта 2022\n",
    "\n",
    "**Среда выполнения**: Jupyter Notebook (Python 3.7+)\n",
    "\n",
    "#### Правила:\n",
    "\n",
    "Результат выполнения задания - Jupyter Notebook с кодом. __Максимальное число баллов за задание - 20__.\n",
    "\n",
    "Все ячейки должны быть \"выполненными\", при этом результат должен воспроизводиться при проверке (на Python 3.7). Если какой-то код не был запущен или отрабатывает с ошибками, то пункт не засчитывается. Задание, сданное после дедлайна, _не принимается_. Можно отправить недоделанное задание, выполненные пункты будут оценены.\n",
    "\n",
    "Готовое задание отправляется на почту mel-lain@yandex.ru.\n",
    "\n",
    "Задание выполняется самостоятельно. Если какие-то студенты будут уличены в списывании, все они автоматически получат за эту работу 0 баллов. Если вы нашли в Интернете какой-то специфичный код, который собираетесь заимствовать, обязательно укажите это в задании - наверняка вы не единственный, кто найдёт и использует эту информацию.\n",
    "\n",
    "__Удалять фрагменты формулировок заданий запрещается.__"
   ]
  },
  {
   "cell_type": "markdown",
   "metadata": {},
   "source": [
    "#### Постановка задачи:\n",
    "\n",
    "- В данной работе нужно решить набор задач, проверяющих владение базовыми инструментами языка.\n",
    "- Каждая задача представляет собой написание одной или более функций, а также набора тестов, проверяющих работу этой функции в общих и крайних случаях.\n",
    "- Отсутствие тестов автоматически уменьшает количество баллов за задание как минимум в два раза, некачественные тесты также будут штрафоваться.\n",
    "- Если в задании указано использовать несколько разных вариантов решения, подразумевается использование различных инструментов (циклы, списковые включения, генераторы, встроенные функции, функции модулей стандартной библотеки и т.п.), замена, например, цикла for на цикл while не является иным способом решения.\n",
    "- Даже если это не указано явно в требованиях, код должен быть по возможности неизбыточным, работать с разумной сложностью и объёмом потребялемой памяти, проверяющие могут снизить балл за задание, выполненное без учёта этого требования.\n",
    "- Результирующий код должен быть читаемым, с единой системой отступов и адеквантными названиями переменных, проверяющие могут снизить балл за задание, выполненное без учёта этого требования."
   ]
  },
  {
   "cell_type": "markdown",
   "metadata": {},
   "source": [
    "__Задание 1 (0.5 балла):__ Дано натуральное число. Требуется определить, является ли год с данным номером високосным. Если год является високосным, то выведите YES, иначе выведите NO. Напомним, что в соответствии с григорианским календарем, год является високосным, если его номер кратен 4, но не кратен 100, а также если он кратен 400."
   ]
  },
  {
   "cell_type": "code",
   "execution_count": 1,
   "metadata": {},
   "outputs": [],
   "source": [
    "def task_01_func(year):\n",
    "    if year % 400 == 0 or (year % 4 == 0 and year % 100 != 0):\n",
    "        print(\"YES\")\n",
    "    else:\n",
    "        print(\"NO\")"
   ]
  },
  {
   "cell_type": "code",
   "execution_count": 2,
   "outputs": [
    {
     "name": "stdout",
     "output_type": "stream",
     "text": [
      "NO\n",
      "YES\n",
      "NO\n",
      "YES\n"
     ]
    }
   ],
   "source": [
    "task_01_func(1800) # NO\n",
    "task_01_func(2000) # YES\n",
    "task_01_func(2022) # No\n",
    "task_01_func(2020) # YES"
   ],
   "metadata": {
    "collapsed": false,
    "pycharm": {
     "name": "#%%\n"
    }
   }
  },
  {
   "cell_type": "markdown",
   "metadata": {},
   "source": [
    "__Задание 2 (0.5 балла):__ Дано натуральное число. Найдите число знаков в его десятичной записи. Предложите как минимум два различных решения."
   ]
  },
  {
   "cell_type": "code",
   "execution_count": 3,
   "metadata": {},
   "outputs": [],
   "source": [
    "def task_02_func_1(number):\n",
    "    cnt = 0\n",
    "    while number >= 1:\n",
    "        number = number / 10\n",
    "        cnt += 1\n",
    "    return cnt\n",
    "\n",
    "def task_02_func_2(number):\n",
    "    return len(str(number))"
   ]
  },
  {
   "cell_type": "code",
   "execution_count": 4,
   "outputs": [
    {
     "name": "stdout",
     "output_type": "stream",
     "text": [
      "First\n",
      "1\n",
      "2\n",
      "3\n",
      "Second\n",
      "1\n",
      "2\n",
      "3\n"
     ]
    }
   ],
   "source": [
    "print(\"First\")\n",
    "print(task_02_func_1(2)) # 1\n",
    "print(task_02_func_1(10)) # 2\n",
    "print(task_02_func_1(123)) # 3\n",
    "print(\"Second\")\n",
    "print(task_02_func_2(2)) # 1\n",
    "print(task_02_func_2(10)) # 2\n",
    "print(task_02_func_2(123)) # 3"
   ],
   "metadata": {
    "collapsed": false,
    "pycharm": {
     "name": "#%%\n"
    }
   }
  },
  {
   "cell_type": "markdown",
   "metadata": {},
   "source": [
    "__Задание 3 (0.5 балла):__ По данному натуральном n вычислите сумму 1!+2!+3!+...+n!. В решении этой задачи с помощью циклов можно использовать только один цикл. Предложите как минимум два различных решения."
   ]
  },
  {
   "cell_type": "code",
   "execution_count": 5,
   "metadata": {
    "collapsed": true
   },
   "outputs": [],
   "source": [
    "def task_03_func_1(n):\n",
    "    item = 1\n",
    "    result = 0\n",
    "    for i in range(1, n + 1):\n",
    "        item = item * i\n",
    "        result = result + item\n",
    "    return result\n",
    "\n",
    "def factorial(n):\n",
    "    if n == 1:\n",
    "        return 1\n",
    "    else:\n",
    "        return factorial(n - 1) * n\n",
    "\n",
    "def task_03_func_2(n):\n",
    "    result = 0\n",
    "    for i in range(1, n + 1):\n",
    "        result = result + factorial(i)\n",
    "    return result"
   ]
  },
  {
   "cell_type": "code",
   "execution_count": 6,
   "outputs": [
    {
     "name": "stdout",
     "output_type": "stream",
     "text": [
      "First\n",
      "1\n",
      "9\n",
      "5913\n",
      "Second\n",
      "1\n",
      "9\n",
      "5913\n"
     ]
    }
   ],
   "source": [
    "print(\"First\")\n",
    "print(task_03_func_1(1)) # 1\n",
    "print(task_03_func_1(3)) # 9\n",
    "print(task_03_func_1(7)) # 5913\n",
    "print(\"Second\")\n",
    "print(task_03_func_2(1)) # 1\n",
    "print(task_03_func_2(3)) # 9\n",
    "print(task_03_func_2(7)) # 5913"
   ],
   "metadata": {
    "collapsed": false,
    "pycharm": {
     "name": "#%%\n"
    }
   }
  },
  {
   "cell_type": "markdown",
   "metadata": {},
   "source": [
    "__Задание 4 (0.5 балла):__ Определить, является ли введённая строка палиндромом (то есть одинаково читается с обеих сторон). Предложите как минимум три различных решения."
   ]
  },
  {
   "cell_type": "code",
   "execution_count": 7,
   "metadata": {
    "collapsed": true
   },
   "outputs": [],
   "source": [
    "def task_04_func1(s):\n",
    "    n = len(s) // 2\n",
    "    for i in range(n):\n",
    "        if s[i] != s[-i - 1]:\n",
    "            return False\n",
    "    return True\n",
    "\n",
    "def task_04_func2(s):\n",
    "    tmp_s = s[::-1]\n",
    "    if tmp_s == s:\n",
    "        return True\n",
    "    else:\n",
    "        return False\n",
    "\n",
    "def task_04_func3(s):\n",
    "    tmp_s = \"\".join(reversed(s))\n",
    "    if tmp_s == s:\n",
    "        return True\n",
    "    else:\n",
    "        return False"
   ]
  },
  {
   "cell_type": "code",
   "execution_count": 8,
   "outputs": [
    {
     "name": "stdout",
     "output_type": "stream",
     "text": [
      "First\n",
      "True\n",
      "True\n",
      "True\n",
      "False\n",
      "Second\n",
      "True\n",
      "True\n",
      "True\n",
      "False\n",
      "Third\n",
      "True\n",
      "True\n",
      "True\n",
      "False\n"
     ]
    }
   ],
   "source": [
    "print(\"First\")\n",
    "print(task_04_func1(\"1\")) # True\n",
    "print(task_04_func1(\"abddba\")) # True\n",
    "print(task_04_func1(\"cabac\")) # True\n",
    "print(task_04_func1(\"acb\")) # False\n",
    "print(\"Second\")\n",
    "print(task_04_func1(\"1\")) # True\n",
    "print(task_04_func1(\"abddba\")) # True\n",
    "print(task_04_func1(\"cabac\")) # True\n",
    "print(task_04_func1(\"acb\")) # False\n",
    "print(\"Third\")\n",
    "print(task_04_func1(\"1\")) # True\n",
    "print(task_04_func1(\"abddba\")) # True\n",
    "print(task_04_func1(\"cabac\")) # True\n",
    "print(task_04_func1(\"acb\")) # False"
   ],
   "metadata": {
    "collapsed": false,
    "pycharm": {
     "name": "#%%\n"
    }
   }
  },
  {
   "cell_type": "markdown",
   "metadata": {},
   "source": [
    "__Задание 5 (1 балл):__ Дан текст в виде строки. Напишите функцию, которая возвращает словарь, где ключами являются уникальные слова из этого текста, а значениями - число раз, которое данное слово встретилось в тексте. Считать, что слова разделяются пробелами. Предложите как минимум два различных решения."
   ]
  },
  {
   "cell_type": "code",
   "execution_count": 9,
   "outputs": [],
   "source": [
    "import regex as re\n",
    "from collections import Counter"
   ],
   "metadata": {
    "collapsed": false,
    "pycharm": {
     "name": "#%%\n"
    }
   }
  },
  {
   "cell_type": "code",
   "execution_count": 10,
   "metadata": {
    "collapsed": true
   },
   "outputs": [],
   "source": [
    "def task_05_func_1(text):\n",
    "    word_list = re.findall(\"[a-zA-Z]+\", text)\n",
    "    word_list = [w.lower() for w in word_list]\n",
    "    result = {el:0 for el in set(word_list)}\n",
    "    for item in word_list:\n",
    "        result[item] += 1\n",
    "    return result\n",
    "\n",
    "def task_05_func_2(text):\n",
    "    word_list = re.findall(\"[a-zA-Z]+\", text)\n",
    "    word_list = [w.lower() for w in word_list]\n",
    "    return Counter(word_list)"
   ]
  },
  {
   "cell_type": "code",
   "execution_count": 11,
   "outputs": [],
   "source": [
    "t = \"\"\"\n",
    "Harry Potter is a series of seven fantasy novels written by British author Joanne Rowling. The novels chronicle the lives of a young wizard, Harry Potter, and his friends Hermione Granger and Ron Weasley, all of whom are students at Hogwarts School of Witchcraft and Wizardry. The main story arc concerns Harry's struggle against Lord Voldemort, a dark wizard who intends to become immortal, overthrow the wizard governing body known as the Ministry of Magic and subjugate all wizards and Muggles (non-magical people).\n",
    "\"\"\""
   ],
   "metadata": {
    "collapsed": false,
    "pycharm": {
     "name": "#%%\n"
    }
   }
  },
  {
   "cell_type": "code",
   "execution_count": 12,
   "outputs": [
    {
     "name": "stdout",
     "output_type": "stream",
     "text": [
      "First\n",
      "{'author': 1, 'dark': 1, 'his': 1, 'magical': 1, 'is': 1, 'as': 1, 'of': 5, 'british': 1, 'non': 1, 'hogwarts': 1, 'concerns': 1, 'immortal': 1, 'wizards': 1, 'series': 1, 'governing': 1, 'fantasy': 1, 'muggles': 1, 'voldemort': 1, 'lives': 1, 'people': 1, 'harry': 3, 'whom': 1, 'story': 1, 'subjugate': 1, 'known': 1, 'body': 1, 'struggle': 1, 'to': 1, 'lord': 1, 'arc': 1, 'main': 1, 'and': 5, 'young': 1, 'a': 3, 'all': 2, 'school': 1, 'the': 5, 'witchcraft': 1, 'wizardry': 1, 'intends': 1, 'by': 1, 'weasley': 1, 'novels': 2, 'against': 1, 'magic': 1, 'chronicle': 1, 'at': 1, 'friends': 1, 'ron': 1, 'potter': 2, 'seven': 1, 's': 1, 'who': 1, 'written': 1, 'granger': 1, 'joanne': 1, 'wizard': 3, 'hermione': 1, 'are': 1, 'become': 1, 'overthrow': 1, 'rowling': 1, 'students': 1, 'ministry': 1}\n",
      "Second\n",
      "Counter({'of': 5, 'the': 5, 'and': 5, 'harry': 3, 'a': 3, 'wizard': 3, 'potter': 2, 'novels': 2, 'all': 2, 'is': 1, 'series': 1, 'seven': 1, 'fantasy': 1, 'written': 1, 'by': 1, 'british': 1, 'author': 1, 'joanne': 1, 'rowling': 1, 'chronicle': 1, 'lives': 1, 'young': 1, 'his': 1, 'friends': 1, 'hermione': 1, 'granger': 1, 'ron': 1, 'weasley': 1, 'whom': 1, 'are': 1, 'students': 1, 'at': 1, 'hogwarts': 1, 'school': 1, 'witchcraft': 1, 'wizardry': 1, 'main': 1, 'story': 1, 'arc': 1, 'concerns': 1, 's': 1, 'struggle': 1, 'against': 1, 'lord': 1, 'voldemort': 1, 'dark': 1, 'who': 1, 'intends': 1, 'to': 1, 'become': 1, 'immortal': 1, 'overthrow': 1, 'governing': 1, 'body': 1, 'known': 1, 'as': 1, 'ministry': 1, 'magic': 1, 'subjugate': 1, 'wizards': 1, 'muggles': 1, 'non': 1, 'magical': 1, 'people': 1})\n"
     ]
    }
   ],
   "source": [
    "print(\"First\")\n",
    "print(task_05_func_1(t))\n",
    "print(\"Second\")\n",
    "print(task_05_func_2(t))"
   ],
   "metadata": {
    "collapsed": false,
    "pycharm": {
     "name": "#%%\n"
    }
   }
  },
  {
   "cell_type": "markdown",
   "metadata": {},
   "source": [
    "__Задание 6 (1 балл):__ Напишите функцию, которая принимает на вход строку и символ и возвращает:\n",
    "\n",
    "- если символ встретился в строке один раз - кортеж (индекс вхождения, None);\n",
    "- если два и более раз - кортеж (индекс первого вхождения, индекс последнего вхождения);\n",
    "- если ни разу - кортеж (None, None).\n",
    "\n",
    "Запрещается делать более одного прохода по каждому элементу строки."
   ]
  },
  {
   "cell_type": "code",
   "execution_count": 13,
   "metadata": {
    "collapsed": true
   },
   "outputs": [],
   "source": [
    "def task_06_func(input_str, input_char):\n",
    "    first = None\n",
    "    last = None\n",
    "    for idx, item in enumerate(input_str):\n",
    "        if item == input_char and first is None:\n",
    "            first = idx\n",
    "        elif item == input_char:\n",
    "            last = idx\n",
    "    return first, last\n"
   ]
  },
  {
   "cell_type": "code",
   "execution_count": 14,
   "outputs": [
    {
     "name": "stdout",
     "output_type": "stream",
     "text": [
      "(0, None)\n",
      "(1, 15)\n",
      "(None, None)\n"
     ]
    }
   ],
   "source": [
    "print(task_06_func(\"abcdefghijklmnop\", \"a\")) # (0, None)\n",
    "print(task_06_func(\"abcdefghijklmnob\", \"b\")) # (0, 15)\n",
    "print(task_06_func(\"abcdefghijklmnop\", \"z\")) # (None, None)"
   ],
   "metadata": {
    "collapsed": false,
    "pycharm": {
     "name": "#%%\n"
    }
   }
  },
  {
   "cell_type": "markdown",
   "metadata": {},
   "source": [
    "__Задание 7 (1 балл):__ Дан список целых чисел. Напишите функцию, которая возвращает копию этого списка, из которой удалены отрицательные числа, а все прочие числа возведены в квадрат. Также возвращаемая последовательность должна быть отсортирована по убыванию. Предложите как минимум три различных решения."
   ]
  },
  {
   "cell_type": "code",
   "execution_count": 15,
   "metadata": {
    "collapsed": true
   },
   "outputs": [],
   "source": [
    "def task_07_func_1(lst):\n",
    "    tmp_lst = []\n",
    "    for item in lst:\n",
    "        if item >= 0:\n",
    "            tmp_lst.append(item**2)\n",
    "    tmp_lst.sort(reverse=True)\n",
    "    return tmp_lst\n",
    "\n",
    "def task_07_func_2(lst):\n",
    "    tmp_lst = list(map(lambda x: x * x, list(filter(lambda x: x >= 0, lst))))\n",
    "    tmp_lst.sort(reverse=True)\n",
    "    return tmp_lst\n",
    "\n",
    "def task_07_func_3(lst):\n",
    "    tmp_lst = [x**2 for x in lst if x >= 0]\n",
    "    return sorted(tmp_lst, reverse=True)"
   ]
  },
  {
   "cell_type": "code",
   "execution_count": 16,
   "outputs": [
    {
     "name": "stdout",
     "output_type": "stream",
     "text": [
      "First\n",
      "[9, 4, 1, 0]\n",
      "Second\n",
      "[9, 4, 1, 0]\n",
      "Third\n",
      "[9, 4, 1, 0]\n"
     ]
    }
   ],
   "source": [
    "print(\"First\")\n",
    "print(task_07_func_1([-1, 1, 0, 2, -2, 3, -3])) # 9 4 1 0\n",
    "print(\"Second\")\n",
    "print(task_07_func_2([-1, 1, 0, 2, -2, 3, -3])) # 9 4 1 0\n",
    "print(\"Third\")\n",
    "print(task_07_func_3([-1, 1, 0, 2, -2, 3, -3])) # 9 4 1 0"
   ],
   "metadata": {
    "collapsed": false,
    "pycharm": {
     "name": "#%%\n"
    }
   }
  },
  {
   "cell_type": "markdown",
   "metadata": {},
   "source": [
    "__Задание 8 (1 балл):__ Напишите функцию, которая принимает на вход список кортежей одинаковой длины и индекс `index` элемента в кортеже и возвращает генератор, итерирование по которому позволит получит все кортежи входного списка, отсортированные по убыванию элементов этих кортежей с индексом `index`."
   ]
  },
  {
   "cell_type": "code",
   "execution_count": 17,
   "outputs": [],
   "source": [
    "from operator import itemgetter"
   ],
   "metadata": {
    "collapsed": false,
    "pycharm": {
     "name": "#%%\n"
    }
   }
  },
  {
   "cell_type": "code",
   "execution_count": 18,
   "metadata": {},
   "outputs": [],
   "source": [
    "def task_08_func(lst, index):\n",
    "    tmp_lst = sorted(lst, key=itemgetter(index), reverse=True)\n",
    "    for item in tmp_lst:\n",
    "        yield item"
   ]
  },
  {
   "cell_type": "code",
   "execution_count": 19,
   "outputs": [
    {
     "name": "stdout",
     "output_type": "stream",
     "text": [
      "(3, 3, 2) (2, 0, 3) (1, 1, 1) (0, 2, 0) \n",
      "(2, 0, 3) (3, 3, 2) (1, 1, 1) (0, 2, 0) "
     ]
    }
   ],
   "source": [
    "for i in task_08_func([(0, 2, 0), (2, 0, 3), (3, 3, 2), (1, 1, 1)], 0): # (3, 3, 2) (2, 0, 3) (1, 1, 1) (0, 2, 0)\n",
    "    print(i, end=\" \")\n",
    "print()\n",
    "for i in task_08_func([(0, 2, 0), (2, 0, 3), (3, 3, 2), (1, 1, 1)], 2): # (2, 0, 3) (3, 3, 2) (1, 1, 1) (0, 2, 0)\n",
    "    print(i, end=\" \")"
   ],
   "metadata": {
    "collapsed": false,
    "pycharm": {
     "name": "#%%\n"
    }
   }
  },
  {
   "cell_type": "markdown",
   "metadata": {},
   "source": [
    "__Задание 9 (1 балл):__ Напишите функцию, которая получает на вход натуральное число `n` и выводит первые `n` строк треугольника Паскаля."
   ]
  },
  {
   "cell_type": "code",
   "execution_count": 20,
   "outputs": [],
   "source": [
    "from math import comb"
   ],
   "metadata": {
    "collapsed": false,
    "pycharm": {
     "name": "#%%\n"
    }
   }
  },
  {
   "cell_type": "code",
   "execution_count": 21,
   "metadata": {
    "collapsed": true
   },
   "outputs": [],
   "source": [
    "def task_09_func1(n):\n",
    "    for i in range(0, n):\n",
    "        l = []\n",
    "        for j in range(0, i + 1):\n",
    "            l.append(str(comb(i, j)))\n",
    "        print(\" \".join(l))\n",
    "\n",
    "def task_09_func2(n):\n",
    "    for i in range(0, n):\n",
    "        for j in range(0, i + 1):\n",
    "            print(comb(i, j), end=\" \")\n",
    "        print(\"\")"
   ]
  },
  {
   "cell_type": "code",
   "execution_count": 22,
   "outputs": [
    {
     "name": "stdout",
     "output_type": "stream",
     "text": [
      "First\n",
      "1\n",
      "1 1\n",
      "1 2 1\n",
      "1 3 3 1\n",
      "1 4 6 4 1\n",
      "1 5 10 10 5 1\n",
      "Second\n",
      "1 \n",
      "1 1 \n",
      "1 2 1 \n",
      "1 3 3 1 \n",
      "1 4 6 4 1 \n",
      "1 5 10 10 5 1 \n"
     ]
    }
   ],
   "source": [
    "print(\"First\")\n",
    "task_09_func1(6)\n",
    "print(\"Second\")\n",
    "task_09_func2(6)"
   ],
   "metadata": {
    "collapsed": false,
    "pycharm": {
     "name": "#%%\n"
    }
   }
  },
  {
   "cell_type": "markdown",
   "metadata": {},
   "source": [
    "__Задание 10 (1 балл):__ Напишите функцию, которая принимает на вход абсолютный путь к директории и две строки с расширениями файлов. В результате её выполнения у всех файлов в указанной директории, имеющих первое расширение, расширение должно измениться на второе. В конце работы функция должна возвращать кортеж из двух элементов:\n",
    "\n",
    "1. сколько всего в директории файлов (именно файлов, не директорий);\n",
    "2. у скольки из них расширение было изменено.\n",
    "\n",
    "Допускается только один проход по каждому файлу из указанной директории."
   ]
  },
  {
   "cell_type": "code",
   "execution_count": 23,
   "outputs": [],
   "source": [
    "from pathlib import Path"
   ],
   "metadata": {
    "collapsed": false,
    "pycharm": {
     "name": "#%%\n"
    }
   }
  },
  {
   "cell_type": "code",
   "execution_count": 24,
   "metadata": {
    "collapsed": true
   },
   "outputs": [],
   "source": [
    "def task_10_func(dir_path, prev_extension, next_extension):\n",
    "    path_path = Path(dir_path)\n",
    "    files = [path for path in path_path.glob(\"*\") if path.is_file()]\n",
    "    i = 0\n",
    "    for item in files:\n",
    "        if prev_extension in str(item):\n",
    "            i = i + 1\n",
    "            item.rename(item.with_suffix(f'.{next_extension}'))\n",
    "    return len(files), i"
   ]
  },
  {
   "cell_type": "code",
   "execution_count": 25,
   "outputs": [
    {
     "name": "stdout",
     "output_type": "stream",
     "text": [
      "(5, 5)\n",
      "(5, 0)\n",
      "(5, 5)\n"
     ]
    }
   ],
   "source": [
    "print(task_10_func('/Users/mir/temp', 'txt', 'csv')) # (5, 5)\n",
    "print(task_10_func('/Users/mir/temp', 'txt', 'csv')) # (5, 0)\n",
    "print(task_10_func('/Users/mir/temp', 'csv', 'txt')) # (5, 5)"
   ],
   "metadata": {
    "collapsed": false,
    "pycharm": {
     "name": "#%%\n"
    }
   }
  },
  {
   "cell_type": "markdown",
   "metadata": {},
   "source": [
    "__Задание 11 (1 балл):__ Описать функцию, которая принимает на вход два списка и возвращает список уникальных элементов, которые есть в первом входном списке и отсутствуют во втором. Запрещается использовать циклы и списковые включения/генераторы списков."
   ]
  },
  {
   "cell_type": "code",
   "execution_count": 26,
   "metadata": {
    "collapsed": true
   },
   "outputs": [],
   "source": [
    "def task_11_func(first_list, second_list):\n",
    "    first_set = set(first_list)\n",
    "    second_set = set(second_list)\n",
    "    return first_set.difference(second_set)"
   ]
  },
  {
   "cell_type": "code",
   "execution_count": 27,
   "outputs": [
    {
     "name": "stdout",
     "output_type": "stream",
     "text": [
      "set()\n",
      "{3, 4}\n",
      "{1, 2, 3}\n"
     ]
    }
   ],
   "source": [
    "print(task_11_func([1], [1, 2])) # {}\n",
    "print(task_11_func([1, 3, 4], [1, 2])) # {3, 4}\n",
    "print(task_11_func([1, 2, 3], [])) # {1, 2, 3}"
   ],
   "metadata": {
    "collapsed": false,
    "pycharm": {
     "name": "#%%\n"
    }
   }
  },
  {
   "cell_type": "markdown",
   "metadata": {},
   "source": [
    "__Задание 12 (1 балл):__ Напишите функцию, которая получает на вход путь к файлу, в котором в каждой строке записано одно вещественное число, а также путь к выходному файлу. Функция должна прочитать содержимое файла, игнорировать строки с нечётными индексами, а строки с чётными индексами должна увеличить на минимальное из чисел, содержащихся в этом файле. Полученные числа нужно записать в выходной файл с точностью 5 знаков после запятой.\n",
    "\n",
    "Требуется сделать не более двух проходов по входному файлу, расход памяти на протяжении работы должен быть O(1) (то есть никак не зависеть от числа строк во входном файле)."
   ]
  },
  {
   "cell_type": "code",
   "execution_count": 28,
   "metadata": {
    "collapsed": true
   },
   "outputs": [],
   "source": [
    "def task_12_func(input_path, output_path):\n",
    "    with open(input_path, 'r') as fin:\n",
    "        data = fin.readlines()\n",
    "    data = [float(x) for x in data]\n",
    "    m = min(data)\n",
    "    del data[1::2]\n",
    "    data = [x + m for x in data]\n",
    "    with open(output_path, 'w') as fout:\n",
    "        fout.write(\"\\n\".join(map(str, data)))"
   ]
  },
  {
   "cell_type": "code",
   "execution_count": 29,
   "outputs": [],
   "source": [
    "task_12_func('/Users/mir/Documents/Python/in.txt', '/Users/mir/Documents/Python/out.txt')"
   ],
   "metadata": {
    "collapsed": false,
    "pycharm": {
     "name": "#%%\n"
    }
   }
  },
  {
   "cell_type": "code",
   "execution_count": 30,
   "outputs": [
    {
     "data": {
      "text/plain": "'\\n3.24\\n11.6\\n0.2\\n'"
     },
     "execution_count": 30,
     "metadata": {},
     "output_type": "execute_result"
    }
   ],
   "source": [
    "# in.txt\n",
    "\"\"\"\n",
    "3.14\n",
    "2.05\n",
    "11.5\n",
    "8.64\n",
    "0.1\n",
    "7.8\n",
    "\"\"\"\n",
    "# out.txt\n",
    "\"\"\"\n",
    "3.24\n",
    "11.6\n",
    "0.2\n",
    "\"\"\""
   ],
   "metadata": {
    "collapsed": false,
    "pycharm": {
     "name": "#%%\n"
    }
   }
  },
  {
   "cell_type": "markdown",
   "metadata": {},
   "source": [
    "__Задание 13 (1 балл):__ Написать функцию, которая принимает на вход число `n`, которое может быть либо натуральным, либо -1, и возвращает генератор чисел Фиббоначи. Если входной параметр равен натуральному числу, то генератор должен выдавать последовательно числа Фиббоначи до `n`-го. Если `n` равно -1, то генератор должен быть бесконечным."
   ]
  },
  {
   "cell_type": "code",
   "execution_count": 31,
   "metadata": {},
   "outputs": [],
   "source": [
    "def task_13_func(n):\n",
    "    if n == -1:\n",
    "        k = 0\n",
    "        while True:\n",
    "            yield int((((1 + 5**0.5) / 2) ** k - ((1 - 5**0.5) / 2) ** k) / 5**0.5)\n",
    "            k += 1\n",
    "    else:\n",
    "        for i in range(0, n):\n",
    "            yield int((((1 + 5**0.5) / 2) ** i - ((1 - 5**0.5) / 2) ** i) / 5**0.5)"
   ]
  },
  {
   "cell_type": "code",
   "execution_count": 32,
   "outputs": [
    {
     "name": "stdout",
     "output_type": "stream",
     "text": [
      "With n = 10\n",
      "0 1 1 2 3 5 8 13 21 34 \n",
      "With n = -1. Break on 20\n",
      "0 1 1 2 3 5 8 13 21 34 55 89 144 233 377 610 987 1597 2584 4181 "
     ]
    }
   ],
   "source": [
    "print(\"With n = 10\")\n",
    "for i in task_13_func(10):\n",
    "    print(i, end=\" \")\n",
    "print(\"\\nWith n = -1. Break on 20\")\n",
    "j = 0\n",
    "for i in task_13_func(-1):\n",
    "    j += 1\n",
    "    print(i, end=\" \")\n",
    "    if j == 20:\n",
    "        break"
   ],
   "metadata": {
    "collapsed": false,
    "pycharm": {
     "name": "#%%\n"
    }
   }
  },
  {
   "cell_type": "markdown",
   "source": [
    "__Задание 14 (1 балл):__ Написать функцию, которая принимает на вход произвольный объект, проверяет его тип, и для целого числа возвращает список всех магических методов объекта, начинающихся с `__a`, для строк - с `__s`. Для всех прочих типов должен возвращаться список немагических методов. В задании запрещается использовать циклы и списковые включения/генераторы списков."
   ],
   "metadata": {
    "collapsed": false
   }
  },
  {
   "cell_type": "code",
   "execution_count": 33,
   "metadata": {
    "collapsed": true
   },
   "outputs": [],
   "source": [
    "def task_14_func(n):\n",
    "    if isinstance(n, (int, float, complex)) and not isinstance(n, bool):\n",
    "        return [e for e in dir(n) if e.startswith('__a')]\n",
    "    elif isinstance(n, str):\n",
    "        return [e for e in dir(n) if e.startswith('__s')]\n",
    "    else:\n",
    "        return [e for e in dir(n) if not e.startswith('__')]\n",
    "\n",
    "# Не смог придумать адекватный способ не использовать генераторы списоков"
   ]
  },
  {
   "cell_type": "code",
   "execution_count": 34,
   "outputs": [],
   "source": [
    "class A:\n",
    "    @staticmethod\n",
    "    def hi():\n",
    "        print(\"hi\")"
   ],
   "metadata": {
    "collapsed": false,
    "pycharm": {
     "name": "#%%\n"
    }
   }
  },
  {
   "cell_type": "code",
   "execution_count": 35,
   "outputs": [],
   "source": [
    "a = A()"
   ],
   "metadata": {
    "collapsed": false,
    "pycharm": {
     "name": "#%%\n"
    }
   }
  },
  {
   "cell_type": "code",
   "execution_count": 36,
   "outputs": [
    {
     "name": "stdout",
     "output_type": "stream",
     "text": [
      "['__abs__', '__add__', '__and__']\n",
      "['__setattr__', '__sizeof__', '__str__', '__subclasshook__']\n",
      "['hi']\n"
     ]
    }
   ],
   "source": [
    "print(task_14_func(1))\n",
    "print(task_14_func(\"c\"))\n",
    "print(task_14_func(a))"
   ],
   "metadata": {
    "collapsed": false,
    "pycharm": {
     "name": "#%%\n"
    }
   }
  },
  {
   "cell_type": "markdown",
   "metadata": {},
   "source": [
    "__Задание 15 (1.5 балла):__ Написать функцию, которая во входной строке заменяет вхождения всех английских заглавных букв на их номер в таблице ASCII, затем производит сплит по минимальной из цифр строки. Предложите как минимум два различных решения, одно из которых не должно использовать циклы. При использовании циклов допускается не более двух проходов по строке."
   ]
  },
  {
   "cell_type": "code",
   "execution_count": 37,
   "metadata": {},
   "outputs": [],
   "source": [
    "def task_15_func(n):\n",
    "    lst = []\n",
    "    ord_list = []\n",
    "    for item in n:\n",
    "        if item.isupper():\n",
    "            lst.append(str(ord(item)))\n",
    "            ord_list.append(int(ord(item)))\n",
    "        else:\n",
    "            lst.append(item)\n",
    "    minimum = min(ord_list)\n",
    "    return \"\".join(lst).split(str(minimum))"
   ]
  },
  {
   "cell_type": "code",
   "execution_count": 38,
   "outputs": [
    {
     "name": "stdout",
     "output_type": "stream",
     "text": [
      "['72arry 80otter is a series of seven fantasy novels written by ', 'ritish author 74oanne 82owling.']\n"
     ]
    }
   ],
   "source": [
    "print(task_15_func(\"Harry Potter is a series of seven fantasy novels written by British author Joanne Rowling.\"))"
   ],
   "metadata": {
    "collapsed": false,
    "pycharm": {
     "name": "#%%\n"
    }
   }
  },
  {
   "cell_type": "markdown",
   "metadata": {},
   "source": [
    "__Задание 16 (1.5 балла):__ Написать функцию, которая принимает на вход строку и извлекает из неё мобильные телефонные номера с помощью регулярных выражений. Функция должна поддерживать общепринятые варианты написания номера, как со всевозможными разделителями, так и без них (обеспечьте поддержку не менее 10 различных случаев). Возвращаемым значением функции является список всех найденных в строке номеров, если их не было, нужно вернуть пустой список."
   ]
  },
  {
   "cell_type": "code",
   "execution_count": 39,
   "metadata": {},
   "outputs": [],
   "source": [
    "def task_16_func(n):\n",
    "    ..."
   ]
  },
  {
   "cell_type": "markdown",
   "metadata": {},
   "source": [
    "__Задание 17 (5 баллов):__ Опишем бинарное дерево, представленное в виде вложенных кортежей, в каждом узле дерева хранится вещественное число и ссылка на левое и правое поддерево.\n",
    "\n",
    "Пример: для сбалансированного дерева\n",
    "\n",
    "```\n",
    "        v_0\n",
    "       /   \\\n",
    "   v_11     v_12\n",
    "  /  \\       /  \\\n",
    "v_21 v_22  v_23 v_24\n",
    "```\n",
    "\n",
    "представление в виде кортежей будет выглядеть так:\n",
    "\n",
    "```\n",
    "(v_0,\n",
    "    (v_11,\n",
    "        (v_21, None, None),\n",
    "        (v_22, None, None)\n",
    "    ),\n",
    "    (v_12,\n",
    "        (v_23, None, None),\n",
    "        (v_24, None, None)\n",
    "    )\n",
    ")\n",
    "```\n",
    "\n",
    "Необходимо написать функцию, которая принимает на вход бинарное дерево (не обязательно сбалансированное), закодированное описанным способом в виде кортежа, производит его обход в глубину и для каждой листовой вершины вычисляет сумму всех значений от корня до неё включительно. Функция ничего не возвращает, вместо этого она выводит получаемые суммы в порядке следования листовых вершин (слева направо).\n",
    "\n",
    "Реализуйте два решения: на основе рекурсии и на основе циклов."
   ]
  },
  {
   "cell_type": "code",
   "execution_count": 40,
   "metadata": {},
   "outputs": [],
   "source": [
    "def task_17_func(n):\n",
    "    ..."
   ]
  }
 ],
 "metadata": {
  "kernelspec": {
   "display_name": "Python 3",
   "language": "python",
   "name": "python3"
  },
  "language_info": {
   "codemirror_mode": {
    "name": "ipython",
    "version": 3
   },
   "file_extension": ".py",
   "mimetype": "text/x-python",
   "name": "python",
   "nbconvert_exporter": "python",
   "pygments_lexer": "ipython3",
   "version": "3.7.3"
  }
 },
 "nbformat": 4,
 "nbformat_minor": 2
}