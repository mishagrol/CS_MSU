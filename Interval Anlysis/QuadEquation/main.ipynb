{
 "cells": [
  {
   "cell_type": "code",
   "execution_count": 1,
   "metadata": {},
   "outputs": [],
   "source": [
    "from interval import Interval\n",
    "from math import sqrt\n",
    "import random"
   ]
  },
  {
   "cell_type": "markdown",
   "metadata": {},
   "source": [
    "# Formulas"
   ]
  },
  {
   "cell_type": "markdown",
   "metadata": {},
   "source": [
    "$$\n",
    "A * x^2 + B * x + C = 0 \\\\\n",
    "$$"
   ]
  },
  {
   "cell_type": "markdown",
   "metadata": {},
   "source": [
    "$$\n",
    "D = B^2 - 4 * A * C \\\\\n",
    "$$"
   ]
  },
  {
   "cell_type": "markdown",
   "metadata": {},
   "source": [
    "$$\n",
    "x_1 = \\frac{-B - \\sqrt{D}}{2 * a} \\\\\n",
    "$$"
   ]
  },
  {
   "cell_type": "markdown",
   "metadata": {},
   "source": [
    "$$\n",
    "x_2 = \\frac{-B + \\sqrt{D}}{2 * a}\n",
    "$$"
   ]
  },
  {
   "cell_type": "markdown",
   "metadata": {},
   "source": [
    "# Equation"
   ]
  },
  {
   "cell_type": "markdown",
   "metadata": {
    "pycharm": {
     "name": "#%% md\n"
    }
   },
   "source": [
    "$$\n",
    "x^2 + 3 * x - 10 = 0 \\\\\n",
    "$$"
   ]
  },
  {
   "cell_type": "markdown",
   "metadata": {},
   "source": [
    "$$\n",
    "D = 49\n",
    "$$"
   ]
  },
  {
   "cell_type": "markdown",
   "metadata": {},
   "source": [
    "$$\n",
    "x_1 = -5 \\\\\n",
    "$$"
   ]
  },
  {
   "cell_type": "markdown",
   "metadata": {},
   "source": [
    "$$\n",
    "x_2 = 2\n",
    "$$"
   ]
  },
  {
   "cell_type": "markdown",
   "metadata": {
    "pycharm": {
     "name": "#%% md\n"
    }
   },
   "source": [
    "# Interval Quadratic Equation"
   ]
  },
  {
   "cell_type": "code",
   "execution_count": 2,
   "metadata": {
    "pycharm": {
     "name": "#%%\n"
    }
   },
   "outputs": [],
   "source": [
    "def int_sqr(x):\n",
    "    if x.a * x.b <= 0:\n",
    "        return Interval(\n",
    "            0, max(x.a * x.a, x.b * x.b)\n",
    "        )\n",
    "    return Interval(\n",
    "        min(x.a * x.a, x.b * x.b),\n",
    "        max(x.a * x.a, x.b * x.b)\n",
    "    )"
   ]
  },
  {
   "cell_type": "code",
   "execution_count": 3,
   "metadata": {
    "pycharm": {
     "name": "#%%\n"
    }
   },
   "outputs": [],
   "source": [
    "def discriminant(x, y, z):\n",
    "    return int_sqr(y) - Interval(4 * x.a, 4 * x.b) * z"
   ]
  },
  {
   "cell_type": "code",
   "execution_count": 4,
   "metadata": {
    "pycharm": {
     "name": "#%%\n"
    }
   },
   "outputs": [],
   "source": [
    "def int_sqrt(x):\n",
    "    return Interval(\n",
    "        min(sqrt(x.a), sqrt(x.b)),\n",
    "        max(sqrt(x.a), sqrt(x.b))\n",
    "    )"
   ]
  },
  {
   "cell_type": "code",
   "execution_count": 5,
   "metadata": {
    "pycharm": {
     "name": "#%%\n"
    }
   },
   "outputs": [],
   "source": [
    "a = Interval(0.5, 1.5)\n",
    "b = Interval(2.5, 3.5)\n",
    "c = Interval(-10.5, -9.5)"
   ]
  },
  {
   "cell_type": "code",
   "execution_count": 6,
   "metadata": {
    "pycharm": {
     "name": "#%%\n"
    }
   },
   "outputs": [],
   "source": [
    "d = discriminant(a, b, c)"
   ]
  },
  {
   "cell_type": "code",
   "execution_count": 7,
   "metadata": {
    "pycharm": {
     "name": "#%%\n"
    }
   },
   "outputs": [],
   "source": [
    "x1 = (Interval(-1 * b.a, -1 * b.b) - int_sqrt(d)) / Interval(2 * a.a, 2 * a.b)"
   ]
  },
  {
   "cell_type": "code",
   "execution_count": 8,
   "metadata": {
    "pycharm": {
     "name": "#%%\n"
    }
   },
   "outputs": [
    {
     "data": {
      "text/plain": "[-11.174675786448736, -2.8416459368534817]"
     },
     "execution_count": 8,
     "metadata": {},
     "output_type": "execute_result"
    }
   ],
   "source": [
    "x1"
   ]
  },
  {
   "cell_type": "code",
   "execution_count": 9,
   "metadata": {
    "pycharm": {
     "name": "#%%\n"
    }
   },
   "outputs": [],
   "source": [
    "x2 = (Interval(-1 * b.a, -1 * b.b) + int_sqrt(d)) / Interval(2 * a.a, 2 * a.b)"
   ]
  },
  {
   "cell_type": "code",
   "execution_count": 10,
   "metadata": {
    "pycharm": {
     "name": "#%%\n"
    }
   },
   "outputs": [
    {
     "data": {
      "text/plain": "[0.8416459368534817, 5.174675786448736]"
     },
     "execution_count": 10,
     "metadata": {},
     "output_type": "execute_result"
    }
   ],
   "source": [
    "x2"
   ]
  },
  {
   "cell_type": "markdown",
   "metadata": {
    "pycharm": {
     "name": "#%% md\n"
    }
   },
   "source": [
    "# Monte - Carlo"
   ]
  },
  {
   "cell_type": "code",
   "execution_count": 11,
   "metadata": {
    "pycharm": {
     "name": "#%%\n"
    }
   },
   "outputs": [],
   "source": [
    "def solver(x, y, z):\n",
    "    discr = y * y - 4 * x * z\n",
    "    x_1 = (-1 * y - sqrt(discr)) / 2 * x\n",
    "    x_2 = (-1 * y + sqrt(discr)) / 2 * x\n",
    "    return x_1, x_2"
   ]
  },
  {
   "cell_type": "code",
   "execution_count": 12,
   "metadata": {
    "pycharm": {
     "name": "#%%\n"
    }
   },
   "outputs": [
    {
     "name": "stdout",
     "output_type": "stream",
     "text": [
      "-5.815152550564403 2.4797341368212766\n"
     ]
    }
   ],
   "source": [
    "n = 10\n",
    "list_x1 = []\n",
    "list_x2 = []\n",
    "for i in range(0, n):\n",
    "    x = random.uniform(0.5, 1.5)\n",
    "    y = random.uniform(2.5, 3.5)\n",
    "    z = random.uniform(-10.5, -9.5)\n",
    "    x1, x2 = solver(x, y, z)\n",
    "    list_x1.append(x1)\n",
    "    list_x2.append(x2)\n",
    "res1 = sum(list_x1) / n\n",
    "res2 = sum(list_x2) / n\n",
    "print(res1, res2)"
   ]
  },
  {
   "cell_type": "code",
   "execution_count": 13,
   "metadata": {
    "pycharm": {
     "name": "#%%\n"
    }
   },
   "outputs": [
    {
     "name": "stdout",
     "output_type": "stream",
     "text": [
      "-5.431812496370285 2.264316807631002\n"
     ]
    }
   ],
   "source": [
    "n = 100\n",
    "list_x1 = []\n",
    "list_x2 = []\n",
    "for i in range(0, n):\n",
    "    x = random.uniform(0.5, 1.5)\n",
    "    y = random.uniform(2.5, 3.5)\n",
    "    z = random.uniform(-10.5, -9.5)\n",
    "    x1, x2 = solver(x, y, z)\n",
    "    list_x1.append(x1)\n",
    "    list_x2.append(x2)\n",
    "res1 = sum(list_x1) / n\n",
    "res2 = sum(list_x2) / n\n",
    "print(res1, res2)"
   ]
  },
  {
   "cell_type": "code",
   "execution_count": 14,
   "metadata": {
    "pycharm": {
     "name": "#%%\n"
    }
   },
   "outputs": [
    {
     "name": "stdout",
     "output_type": "stream",
     "text": [
      "-5.055988853449513 2.08024605059031\n"
     ]
    }
   ],
   "source": [
    "n = 1000\n",
    "list_x1 = []\n",
    "list_x2 = []\n",
    "for i in range(0, n):\n",
    "    x = random.uniform(0.5, 1.5)\n",
    "    y = random.uniform(2.5, 3.5)\n",
    "    z = random.uniform(-10.5, -9.5)\n",
    "    x1, x2 = solver(x, y, z)\n",
    "    list_x1.append(x1)\n",
    "    list_x2.append(x2)\n",
    "res1 = sum(list_x1) / n\n",
    "res2 = sum(list_x2) / n\n",
    "print(res1, res2)"
   ]
  },
  {
   "cell_type": "code",
   "execution_count": 15,
   "metadata": {
    "pycharm": {
     "name": "#%%\n"
    }
   },
   "outputs": [
    {
     "name": "stdout",
     "output_type": "stream",
     "text": [
      "-5.084049760320242 2.091278026998387\n"
     ]
    }
   ],
   "source": [
    "n = 10000\n",
    "list_x1 = []\n",
    "list_x2 = []\n",
    "for i in range(0, n):\n",
    "    x = random.uniform(0.5, 1.5)\n",
    "    y = random.uniform(2.5, 3.5)\n",
    "    z = random.uniform(-10.5, -9.5)\n",
    "    x1, x2 = solver(x, y, z)\n",
    "    list_x1.append(x1)\n",
    "    list_x2.append(x2)\n",
    "res1 = sum(list_x1) / n\n",
    "res2 = sum(list_x2) / n\n",
    "print(res1, res2)"
   ]
  },
  {
   "cell_type": "code",
   "execution_count": 16,
   "metadata": {
    "pycharm": {
     "name": "#%%\n"
    }
   },
   "outputs": [
    {
     "name": "stdout",
     "output_type": "stream",
     "text": [
      "-5.095589362911376 2.096263553728305\n"
     ]
    }
   ],
   "source": [
    "n = 1000000\n",
    "list_x1 = []\n",
    "list_x2 = []\n",
    "for i in range(0, n):\n",
    "    x = random.uniform(0.5, 1.5)\n",
    "    y = random.uniform(2.5, 3.5)\n",
    "    z = random.uniform(-10.5, -9.5)\n",
    "    x1, x2 = solver(x, y, z)\n",
    "    list_x1.append(x1)\n",
    "    list_x2.append(x2)\n",
    "res1 = sum(list_x1) / n\n",
    "res2 = sum(list_x2) / n\n",
    "print(res1, res2)"
   ]
  },
  {
   "cell_type": "markdown",
   "source": [
    "# Home work 2"
   ],
   "metadata": {
    "collapsed": false,
    "pycharm": {
     "name": "#%% md\n"
    }
   }
  },
  {
   "cell_type": "code",
   "execution_count": 17,
   "outputs": [],
   "source": [
    "import numpy as np"
   ],
   "metadata": {
    "collapsed": false,
    "pycharm": {
     "name": "#%%\n"
    }
   }
  },
  {
   "cell_type": "code",
   "execution_count": 18,
   "outputs": [],
   "source": [
    "def solver(a, b, c):\n",
    "    d = discriminant(a, b, c)\n",
    "    return \\\n",
    "        (Interval(-1 * b.a, -1 * b.b) - int_sqrt(d)) / Interval(2 * a.a, 2 * a.b), \\\n",
    "        (Interval(-1 * b.a, -1 * b.b) + int_sqrt(d)) / Interval(2 * a.a, 2 * a.b)"
   ],
   "metadata": {
    "collapsed": false,
    "pycharm": {
     "name": "#%%\n"
    }
   }
  },
  {
   "cell_type": "code",
   "execution_count": 19,
   "outputs": [],
   "source": [
    "def intersect(intervals):\n",
    "    inter = intervals.pop()\n",
    "    start, end = inter.a, inter.b\n",
    "    while intervals:\n",
    "        temp = intervals.pop()\n",
    "        start_temp, end_temp = temp.a, temp.b\n",
    "        start = max(start, start_temp)\n",
    "        end = min(end, end_temp)\n",
    "    return [start, end]"
   ],
   "metadata": {
    "collapsed": false,
    "pycharm": {
     "name": "#%%\n"
    }
   }
  },
  {
   "cell_type": "markdown",
   "source": [
    "n = 2"
   ],
   "metadata": {
    "collapsed": false
   }
  },
  {
   "cell_type": "code",
   "execution_count": 20,
   "outputs": [],
   "source": [
    "n = 2\n",
    "A = Interval(0.5, 1.5)\n",
    "B = Interval(2.5, 3.5)\n",
    "C = Interval(-10.5, -9.5)"
   ],
   "metadata": {
    "collapsed": false,
    "pycharm": {
     "name": "#%%\n"
    }
   }
  },
  {
   "cell_type": "code",
   "execution_count": 21,
   "outputs": [],
   "source": [
    "A_int = np.linspace(A.a, A.b, n)\n",
    "B_int = np.linspace(B.a, B.b, n)\n",
    "C_int = np.linspace(C.a, C.b, n)"
   ],
   "metadata": {
    "collapsed": false,
    "pycharm": {
     "name": "#%%\n"
    }
   }
  },
  {
   "cell_type": "code",
   "execution_count": 22,
   "outputs": [],
   "source": [
    "result = []\n",
    "for i in range(0, n - 1):\n",
    "    x = Interval(A_int[i], A_int[i+1])\n",
    "    y = Interval(B_int[i], B_int[i+1])\n",
    "    z = Interval(C_int[i], C_int[i+1])\n",
    "    result.append(solver(x, y, z))"
   ],
   "metadata": {
    "collapsed": false,
    "pycharm": {
     "name": "#%%\n"
    }
   }
  },
  {
   "cell_type": "code",
   "execution_count": 23,
   "outputs": [],
   "source": [
    "x1_int = []\n",
    "x2_int = []\n",
    "for i in range(0, n - 1):\n",
    "    x1_int.append(result[i][0])\n",
    "    x2_int.append(result[i][1])"
   ],
   "metadata": {
    "collapsed": false,
    "pycharm": {
     "name": "#%%\n"
    }
   }
  },
  {
   "cell_type": "code",
   "execution_count": 24,
   "outputs": [
    {
     "data": {
      "text/plain": "[-11.174675786448736, -2.8416459368534817]"
     },
     "execution_count": 24,
     "metadata": {},
     "output_type": "execute_result"
    }
   ],
   "source": [
    "intersect(x1_int)"
   ],
   "metadata": {
    "collapsed": false,
    "pycharm": {
     "name": "#%%\n"
    }
   }
  },
  {
   "cell_type": "code",
   "execution_count": 25,
   "outputs": [
    {
     "data": {
      "text/plain": "[0.8416459368534817, 5.174675786448736]"
     },
     "execution_count": 25,
     "metadata": {},
     "output_type": "execute_result"
    }
   ],
   "source": [
    "intersect(x2_int)"
   ],
   "metadata": {
    "collapsed": false,
    "pycharm": {
     "name": "#%%\n"
    }
   }
  },
  {
   "cell_type": "markdown",
   "source": [
    "n = 3"
   ],
   "metadata": {
    "collapsed": false,
    "pycharm": {
     "name": "#%% md\n"
    }
   }
  },
  {
   "cell_type": "code",
   "execution_count": 26,
   "outputs": [],
   "source": [
    "n = 3\n",
    "A = Interval(0.5, 1.5)\n",
    "B = Interval(2.5, 3.5)\n",
    "C = Interval(-10.5, -9.5)"
   ],
   "metadata": {
    "collapsed": false,
    "pycharm": {
     "name": "#%%\n"
    }
   }
  },
  {
   "cell_type": "code",
   "execution_count": 27,
   "outputs": [],
   "source": [
    "A_int = np.linspace(A.a, A.b, n)\n",
    "B_int = np.linspace(B.a, B.b, n)\n",
    "C_int = np.linspace(C.a, C.b, n)"
   ],
   "metadata": {
    "collapsed": false,
    "pycharm": {
     "name": "#%%\n"
    }
   }
  },
  {
   "cell_type": "code",
   "execution_count": 28,
   "outputs": [],
   "source": [
    "result = []\n",
    "for i in range(0, n - 1):\n",
    "    x = Interval(A_int[i], A_int[i+1])\n",
    "    y = Interval(B_int[i], B_int[i+1])\n",
    "    z = Interval(C_int[i], C_int[i+1])\n",
    "    result.append(solver(x, y, z))"
   ],
   "metadata": {
    "collapsed": false,
    "pycharm": {
     "name": "#%%\n"
    }
   }
  },
  {
   "cell_type": "code",
   "execution_count": 29,
   "outputs": [],
   "source": [
    "x1_int = []\n",
    "x2_int = []\n",
    "for i in range(0, n - 1):\n",
    "    x1_int.append(result[i][0])\n",
    "    x2_int.append(result[i][1])"
   ],
   "metadata": {
    "collapsed": false,
    "pycharm": {
     "name": "#%%\n"
    }
   }
  },
  {
   "cell_type": "code",
   "execution_count": 30,
   "outputs": [
    {
     "data": {
      "text/plain": "[-5.75, -4.061737691489899]"
     },
     "execution_count": 30,
     "metadata": {},
     "output_type": "execute_result"
    }
   ],
   "source": [
    "intersect(x1_int)"
   ],
   "metadata": {
    "collapsed": false,
    "pycharm": {
     "name": "#%%\n"
    }
   }
  },
  {
   "cell_type": "code",
   "execution_count": 31,
   "outputs": [
    {
     "data": {
      "text/plain": "[1.3117376914898995, 2.5]"
     },
     "execution_count": 31,
     "metadata": {},
     "output_type": "execute_result"
    }
   ],
   "source": [
    "intersect(x2_int)"
   ],
   "metadata": {
    "collapsed": false,
    "pycharm": {
     "name": "#%%\n"
    }
   }
  },
  {
   "cell_type": "markdown",
   "source": [
    "n = 5"
   ],
   "metadata": {
    "collapsed": false
   }
  },
  {
   "cell_type": "code",
   "execution_count": 32,
   "outputs": [],
   "source": [
    "n = 5\n",
    "A = Interval(0.5, 1.5)\n",
    "B = Interval(2.5, 3.5)\n",
    "C = Interval(-10.5, -9.5)"
   ],
   "metadata": {
    "collapsed": false,
    "pycharm": {
     "name": "#%%\n"
    }
   }
  },
  {
   "cell_type": "code",
   "execution_count": 33,
   "outputs": [],
   "source": [
    "A_int = np.linspace(A.a, A.b, n)\n",
    "B_int = np.linspace(B.a, B.b, n)\n",
    "C_int = np.linspace(C.a, C.b, n)"
   ],
   "metadata": {
    "collapsed": false,
    "pycharm": {
     "name": "#%%\n"
    }
   }
  },
  {
   "cell_type": "code",
   "execution_count": 34,
   "outputs": [],
   "source": [
    "result = []\n",
    "for i in range(0, n - 1):\n",
    "    x = Interval(A_int[i], A_int[i+1])\n",
    "    y = Interval(B_int[i], B_int[i+1])\n",
    "    z = Interval(C_int[i], C_int[i+1])\n",
    "    result.append(solver(x, y, z))"
   ],
   "metadata": {
    "collapsed": false,
    "pycharm": {
     "name": "#%%\n"
    }
   }
  },
  {
   "cell_type": "code",
   "execution_count": 35,
   "outputs": [],
   "source": [
    "x1_int = []\n",
    "x2_int = []\n",
    "for i in range(0, n - 1):\n",
    "    x1_int.append(result[i][0])\n",
    "    x2_int.append(result[i][1])"
   ],
   "metadata": {
    "collapsed": false,
    "pycharm": {
     "name": "#%%\n"
    }
   }
  },
  {
   "cell_type": "code",
   "execution_count": 36,
   "outputs": [
    {
     "data": {
      "text/plain": "[-4.664520768252145, -5.281360144262867]"
     },
     "execution_count": 36,
     "metadata": {},
     "output_type": "execute_result"
    }
   ],
   "source": [
    "intersect(x1_int)"
   ],
   "metadata": {
    "collapsed": false,
    "pycharm": {
     "name": "#%%\n"
    }
   }
  },
  {
   "cell_type": "code",
   "execution_count": 37,
   "outputs": [
    {
     "data": {
      "text/plain": "[1.781360144262867, 1.9645207682521446]"
     },
     "execution_count": 37,
     "metadata": {},
     "output_type": "execute_result"
    }
   ],
   "source": [
    "intersect(x2_int)"
   ],
   "metadata": {
    "collapsed": false,
    "pycharm": {
     "name": "#%%\n"
    }
   }
  },
  {
   "cell_type": "markdown",
   "source": [
    "n = 10"
   ],
   "metadata": {
    "collapsed": false
   }
  },
  {
   "cell_type": "code",
   "execution_count": 38,
   "outputs": [],
   "source": [
    "n = 10\n",
    "A = Interval(0.5, 1.5)\n",
    "B = Interval(2.5, 3.5)\n",
    "C = Interval(-10.5, -9.5)"
   ],
   "metadata": {
    "collapsed": false,
    "pycharm": {
     "name": "#%%\n"
    }
   }
  },
  {
   "cell_type": "code",
   "execution_count": 39,
   "outputs": [],
   "source": [
    "A_int = np.linspace(A.a, A.b, n)\n",
    "B_int = np.linspace(B.a, B.b, n)\n",
    "C_int = np.linspace(C.a, C.b, n)"
   ],
   "metadata": {
    "collapsed": false,
    "pycharm": {
     "name": "#%%\n"
    }
   }
  },
  {
   "cell_type": "code",
   "execution_count": 40,
   "outputs": [],
   "source": [
    "result = []\n",
    "for i in range(0, n - 1):\n",
    "    x = Interval(A_int[i], A_int[i+1])\n",
    "    y = Interval(B_int[i], B_int[i+1])\n",
    "    z = Interval(C_int[i], C_int[i+1])\n",
    "    result.append(solver(x, y, z))"
   ],
   "metadata": {
    "collapsed": false,
    "pycharm": {
     "name": "#%%\n"
    }
   }
  },
  {
   "cell_type": "code",
   "execution_count": 41,
   "outputs": [],
   "source": [
    "x1_int = []\n",
    "x2_int = []\n",
    "for i in range(0, n - 1):\n",
    "    x1_int.append(result[i][0])\n",
    "    x2_int.append(result[i][1])"
   ],
   "metadata": {
    "collapsed": false,
    "pycharm": {
     "name": "#%%\n"
    }
   }
  },
  {
   "cell_type": "code",
   "execution_count": 42,
   "outputs": [
    {
     "data": {
      "text/plain": "[-4.230182718706623, -6.389947443767879]"
     },
     "execution_count": 42,
     "metadata": {},
     "output_type": "execute_result"
    }
   ],
   "source": [
    "intersect(x1_int)"
   ],
   "metadata": {
    "collapsed": false,
    "pycharm": {
     "name": "#%%\n"
    }
   }
  },
  {
   "cell_type": "code",
   "execution_count": 43,
   "outputs": [
    {
     "data": {
      "text/plain": "[2.2081292619496966, 1.750182718706623]"
     },
     "execution_count": 43,
     "metadata": {},
     "output_type": "execute_result"
    }
   ],
   "source": [
    "intersect(x2_int)"
   ],
   "metadata": {
    "collapsed": false,
    "pycharm": {
     "name": "#%%\n"
    }
   }
  },
  {
   "cell_type": "markdown",
   "source": [
    "n = 50"
   ],
   "metadata": {
    "collapsed": false
   }
  },
  {
   "cell_type": "code",
   "execution_count": 44,
   "outputs": [],
   "source": [
    "n = 50\n",
    "A = Interval(0.5, 1.5)\n",
    "B = Interval(2.5, 3.5)\n",
    "C = Interval(-10.5, -9.5)"
   ],
   "metadata": {
    "collapsed": false,
    "pycharm": {
     "name": "#%%\n"
    }
   }
  },
  {
   "cell_type": "code",
   "execution_count": 45,
   "outputs": [],
   "source": [
    "A_int = np.linspace(A.a, A.b, n)\n",
    "B_int = np.linspace(B.a, B.b, n)\n",
    "C_int = np.linspace(C.a, C.b, n)"
   ],
   "metadata": {
    "collapsed": false,
    "pycharm": {
     "name": "#%%\n"
    }
   }
  },
  {
   "cell_type": "code",
   "execution_count": 46,
   "outputs": [],
   "source": [
    "result = []\n",
    "for i in range(0, n - 1):\n",
    "    x = Interval(A_int[i], A_int[i+1])\n",
    "    y = Interval(B_int[i], B_int[i+1])\n",
    "    z = Interval(C_int[i], C_int[i+1])\n",
    "    result.append(solver(x, y, z))"
   ],
   "metadata": {
    "collapsed": false,
    "pycharm": {
     "name": "#%%\n"
    }
   }
  },
  {
   "cell_type": "code",
   "execution_count": 47,
   "outputs": [],
   "source": [
    "x1_int = []\n",
    "x2_int = []\n",
    "for i in range(0, n - 1):\n",
    "    x1_int.append(result[i][0])\n",
    "    x2_int.append(result[i][1])"
   ],
   "metadata": {
    "collapsed": false,
    "pycharm": {
     "name": "#%%\n"
    }
   }
  },
  {
   "cell_type": "code",
   "execution_count": 48,
   "outputs": [
    {
     "data": {
      "text/plain": "[-3.9904938743287324, -7.4332524004634655]"
     },
     "execution_count": 48,
     "metadata": {},
     "output_type": "execute_result"
    }
   ],
   "source": [
    "intersect(x1_int)"
   ],
   "metadata": {
    "collapsed": false,
    "pycharm": {
     "name": "#%%\n"
    }
   }
  },
  {
   "cell_type": "code",
   "execution_count": 49,
   "outputs": [
    {
     "data": {
      "text/plain": "[2.60972298869876, 1.6318731846735592]"
     },
     "execution_count": 49,
     "metadata": {},
     "output_type": "execute_result"
    }
   ],
   "source": [
    "intersect(x2_int)"
   ],
   "metadata": {
    "collapsed": false,
    "pycharm": {
     "name": "#%%\n"
    }
   }
  },
  {
   "cell_type": "markdown",
   "source": [
    "n = 100"
   ],
   "metadata": {
    "collapsed": false
   }
  },
  {
   "cell_type": "code",
   "execution_count": 50,
   "outputs": [],
   "source": [
    "n = 100\n",
    "A = Interval(0.5, 1.5)\n",
    "B = Interval(2.5, 3.5)\n",
    "C = Interval(-10.5, -9.5)"
   ],
   "metadata": {
    "collapsed": false,
    "pycharm": {
     "name": "#%%\n"
    }
   }
  },
  {
   "cell_type": "code",
   "execution_count": 51,
   "outputs": [],
   "source": [
    "A_int = np.linspace(A.a, A.b, n)\n",
    "B_int = np.linspace(B.a, B.b, n)\n",
    "C_int = np.linspace(C.a, C.b, n)"
   ],
   "metadata": {
    "collapsed": false,
    "pycharm": {
     "name": "#%%\n"
    }
   }
  },
  {
   "cell_type": "code",
   "execution_count": 52,
   "outputs": [],
   "source": [
    "result = []\n",
    "for i in range(0, n - 1):\n",
    "    x = Interval(A_int[i], A_int[i+1])\n",
    "    y = Interval(B_int[i], B_int[i+1])\n",
    "    z = Interval(C_int[i], C_int[i+1])\n",
    "    result.append(solver(x, y, z))"
   ],
   "metadata": {
    "collapsed": false,
    "pycharm": {
     "name": "#%%\n"
    }
   }
  },
  {
   "cell_type": "code",
   "execution_count": 53,
   "outputs": [],
   "source": [
    "x1_int = []\n",
    "x2_int = []\n",
    "for i in range(0, n - 1):\n",
    "    x1_int.append(result[i][0])\n",
    "    x2_int.append(result[i][1])"
   ],
   "metadata": {
    "collapsed": false,
    "pycharm": {
     "name": "#%%\n"
    }
   }
  },
  {
   "cell_type": "code",
   "execution_count": 54,
   "outputs": [
    {
     "data": {
      "text/plain": "[-3.9651003952033346, -7.575282885309172]"
     },
     "execution_count": 54,
     "metadata": {},
     "output_type": "execute_result"
    }
   ],
   "source": [
    "intersect(x1_int)"
   ],
   "metadata": {
    "collapsed": false,
    "pycharm": {
     "name": "#%%\n"
    }
   }
  },
  {
   "cell_type": "code",
   "execution_count": 55,
   "outputs": [
    {
     "data": {
      "text/plain": "[2.6643917962002606, 1.619337683338928]"
     },
     "execution_count": 55,
     "metadata": {},
     "output_type": "execute_result"
    }
   ],
   "source": [
    "intersect(x2_int)"
   ],
   "metadata": {
    "collapsed": false,
    "pycharm": {
     "name": "#%%\n"
    }
   }
  }
 ],
 "metadata": {
  "kernelspec": {
   "display_name": "Python 3 (ipykernel)",
   "language": "python",
   "name": "python3"
  },
  "language_info": {
   "codemirror_mode": {
    "name": "ipython",
    "version": 3
   },
   "file_extension": ".py",
   "mimetype": "text/x-python",
   "name": "python",
   "nbconvert_exporter": "python",
   "pygments_lexer": "ipython3",
   "version": "3.9.7"
  }
 },
 "nbformat": 4,
 "nbformat_minor": 1
}