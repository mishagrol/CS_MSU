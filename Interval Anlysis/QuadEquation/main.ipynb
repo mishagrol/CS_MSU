{
 "cells": [
  {
   "cell_type": "code",
   "execution_count": 1,
   "metadata": {},
   "outputs": [],
   "source": [
    "from interval import Interval\n",
    "from math import sqrt\n",
    "import random"
   ]
  },
  {
   "cell_type": "markdown",
   "metadata": {},
   "source": [
    "# Formulas"
   ]
  },
  {
   "cell_type": "markdown",
   "metadata": {},
   "source": [
    "$$\n",
    "A * x^2 + B * x + C = 0 \\\\\n",
    "$$"
   ]
  },
  {
   "cell_type": "markdown",
   "metadata": {},
   "source": [
    "$$\n",
    "D = B^2 - 4 * A * C \\\\\n",
    "$$"
   ]
  },
  {
   "cell_type": "markdown",
   "metadata": {},
   "source": [
    "$$\n",
    "x_1 = \\frac{-B - \\sqrt{D}}{2 * a} \\\\\n",
    "$$"
   ]
  },
  {
   "cell_type": "markdown",
   "metadata": {},
   "source": [
    "$$\n",
    "x_2 = \\frac{-B + \\sqrt{D}}{2 * a}\n",
    "$$"
   ]
  },
  {
   "cell_type": "markdown",
   "metadata": {},
   "source": [
    "# Equation"
   ]
  },
  {
   "cell_type": "markdown",
   "metadata": {
    "pycharm": {
     "name": "#%% md\n"
    }
   },
   "source": [
    "$$\n",
    "x^2 + 3 * x - 10 = 0 \\\\\n",
    "$$"
   ]
  },
  {
   "cell_type": "markdown",
   "metadata": {},
   "source": [
    "$$\n",
    "D = 49\n",
    "$$"
   ]
  },
  {
   "cell_type": "markdown",
   "metadata": {},
   "source": [
    "$$\n",
    "x_1 = -5 \\\\\n",
    "$$"
   ]
  },
  {
   "cell_type": "markdown",
   "metadata": {},
   "source": [
    "$$\n",
    "x_2 = 2\n",
    "$$"
   ]
  },
  {
   "cell_type": "markdown",
   "metadata": {
    "pycharm": {
     "name": "#%% md\n"
    }
   },
   "source": [
    "# Interval Quadratic Equation"
   ]
  },
  {
   "cell_type": "code",
   "execution_count": 2,
   "metadata": {
    "pycharm": {
     "name": "#%%\n"
    }
   },
   "outputs": [],
   "source": [
    "def int_sqr(x):\n",
    "    if x.a * x.b <= 0:\n",
    "        return Interval(\n",
    "            0, max(x.a * x.a, x.b * x.b)\n",
    "        )\n",
    "    return Interval(\n",
    "        min(x.a * x.a, x.b * x.b),\n",
    "        max(x.a * x.a, x.b * x.b)\n",
    "    )"
   ]
  },
  {
   "cell_type": "code",
   "execution_count": 3,
   "metadata": {
    "pycharm": {
     "name": "#%%\n"
    }
   },
   "outputs": [],
   "source": [
    "def discriminant(x, y, z):\n",
    "    return int_sqr(y) - Interval(4 * x.a, 4 * x.b) * z"
   ]
  },
  {
   "cell_type": "code",
   "execution_count": 4,
   "metadata": {
    "pycharm": {
     "name": "#%%\n"
    }
   },
   "outputs": [],
   "source": [
    "def int_sqrt(x):\n",
    "    return Interval(\n",
    "        min(sqrt(x.a), sqrt(x.b)),\n",
    "        max(sqrt(x.a), sqrt(x.b))\n",
    "    )"
   ]
  },
  {
   "cell_type": "code",
   "execution_count": 5,
   "metadata": {
    "pycharm": {
     "name": "#%%\n"
    }
   },
   "outputs": [],
   "source": [
    "a = Interval(0.5, 1.5)\n",
    "b = Interval(2.5, 3.5)\n",
    "c = Interval(-10.5, -9.5)"
   ]
  },
  {
   "cell_type": "code",
   "execution_count": 6,
   "metadata": {
    "pycharm": {
     "name": "#%%\n"
    }
   },
   "outputs": [],
   "source": [
    "d = discriminant(a, b, c)"
   ]
  },
  {
   "cell_type": "code",
   "execution_count": 7,
   "metadata": {
    "pycharm": {
     "name": "#%%\n"
    }
   },
   "outputs": [],
   "source": [
    "x1 = (Interval(-1 * b.a, -1 * b.b) - int_sqrt(d)) / Interval(2 * a.a, 2 * a.b)"
   ]
  },
  {
   "cell_type": "code",
   "execution_count": 8,
   "metadata": {
    "pycharm": {
     "name": "#%%\n"
    }
   },
   "outputs": [
    {
     "data": {
      "text/plain": [
       "[-11.174675786448736, -2.8416459368534817]"
      ]
     },
     "execution_count": 8,
     "metadata": {},
     "output_type": "execute_result"
    }
   ],
   "source": [
    "x1"
   ]
  },
  {
   "cell_type": "code",
   "execution_count": 9,
   "metadata": {
    "pycharm": {
     "name": "#%%\n"
    }
   },
   "outputs": [],
   "source": [
    "x2 = (Interval(-1 * b.a, -1 * b.b) + int_sqrt(d)) / Interval(2 * a.a, 2 * a.b)"
   ]
  },
  {
   "cell_type": "code",
   "execution_count": 10,
   "metadata": {
    "pycharm": {
     "name": "#%%\n"
    }
   },
   "outputs": [
    {
     "data": {
      "text/plain": [
       "[0.8416459368534817, 5.174675786448736]"
      ]
     },
     "execution_count": 10,
     "metadata": {},
     "output_type": "execute_result"
    }
   ],
   "source": [
    "x2"
   ]
  },
  {
   "cell_type": "markdown",
   "metadata": {
    "pycharm": {
     "name": "#%% md\n"
    }
   },
   "source": [
    "# Monte - Carlo"
   ]
  },
  {
   "cell_type": "code",
   "execution_count": 11,
   "metadata": {
    "pycharm": {
     "name": "#%%\n"
    }
   },
   "outputs": [],
   "source": [
    "def solver(x, y, z):\n",
    "    discr = y * y - 4 * x * z\n",
    "    x_1 = (-1 * y - sqrt(discr)) / 2 * x\n",
    "    x_2 = (-1 * y + sqrt(discr)) / 2 * x\n",
    "    return x_1, x_2"
   ]
  },
  {
   "cell_type": "code",
   "execution_count": 12,
   "metadata": {
    "pycharm": {
     "name": "#%%\n"
    }
   },
   "outputs": [
    {
     "name": "stdout",
     "output_type": "stream",
     "text": [
      "-4.8736083469641756 2.1051226736802393\n"
     ]
    }
   ],
   "source": [
    "n = 10\n",
    "list_x1 = []\n",
    "list_x2 = []\n",
    "for i in range(0, n):\n",
    "    x = random.uniform(0.5, 1.5)\n",
    "    y = random.uniform(2.5, 3.5)\n",
    "    z = random.uniform(-10.5, -9.5)\n",
    "    x1, x2 = solver(x, y, z)\n",
    "    list_x1.append(x1)\n",
    "    list_x2.append(x2)\n",
    "res1 = sum(list_x1) / n\n",
    "res2 = sum(list_x2) / n\n",
    "print(res1, res2)"
   ]
  },
  {
   "cell_type": "code",
   "execution_count": 13,
   "metadata": {
    "pycharm": {
     "name": "#%%\n"
    }
   },
   "outputs": [
    {
     "name": "stdout",
     "output_type": "stream",
     "text": [
      "-5.405177129934389 2.2900890532455147\n"
     ]
    }
   ],
   "source": [
    "n = 100\n",
    "list_x1 = []\n",
    "list_x2 = []\n",
    "for i in range(0, n):\n",
    "    x = random.uniform(0.5, 1.5)\n",
    "    y = random.uniform(2.5, 3.5)\n",
    "    z = random.uniform(-10.5, -9.5)\n",
    "    x1, x2 = solver(x, y, z)\n",
    "    list_x1.append(x1)\n",
    "    list_x2.append(x2)\n",
    "res1 = sum(list_x1) / n\n",
    "res2 = sum(list_x2) / n\n",
    "print(res1, res2)"
   ]
  },
  {
   "cell_type": "code",
   "execution_count": 14,
   "metadata": {
    "pycharm": {
     "name": "#%%\n"
    }
   },
   "outputs": [
    {
     "name": "stdout",
     "output_type": "stream",
     "text": [
      "-5.071550203286392 2.082740995691478\n"
     ]
    }
   ],
   "source": [
    "n = 1000\n",
    "list_x1 = []\n",
    "list_x2 = []\n",
    "for i in range(0, n):\n",
    "    x = random.uniform(0.5, 1.5)\n",
    "    y = random.uniform(2.5, 3.5)\n",
    "    z = random.uniform(-10.5, -9.5)\n",
    "    x1, x2 = solver(x, y, z)\n",
    "    list_x1.append(x1)\n",
    "    list_x2.append(x2)\n",
    "res1 = sum(list_x1) / n\n",
    "res2 = sum(list_x2) / n\n",
    "print(res1, res2)"
   ]
  },
  {
   "cell_type": "code",
   "execution_count": 15,
   "metadata": {
    "pycharm": {
     "name": "#%%\n"
    }
   },
   "outputs": [
    {
     "name": "stdout",
     "output_type": "stream",
     "text": [
      "-5.086841284349822 2.091991198866732\n"
     ]
    }
   ],
   "source": [
    "n = 10000\n",
    "list_x1 = []\n",
    "list_x2 = []\n",
    "for i in range(0, n):\n",
    "    x = random.uniform(0.5, 1.5)\n",
    "    y = random.uniform(2.5, 3.5)\n",
    "    z = random.uniform(-10.5, -9.5)\n",
    "    x1, x2 = solver(x, y, z)\n",
    "    list_x1.append(x1)\n",
    "    list_x2.append(x2)\n",
    "res1 = sum(list_x1) / n\n",
    "res2 = sum(list_x2) / n\n",
    "print(res1, res2)"
   ]
  },
  {
   "cell_type": "code",
   "execution_count": 16,
   "metadata": {
    "pycharm": {
     "name": "#%%\n"
    }
   },
   "outputs": [
    {
     "name": "stdout",
     "output_type": "stream",
     "text": [
      "-5.095591023266463 2.0970444494790894\n"
     ]
    }
   ],
   "source": [
    "n = 1000000\n",
    "list_x1 = []\n",
    "list_x2 = []\n",
    "for i in range(0, n):\n",
    "    x = random.uniform(0.5, 1.5)\n",
    "    y = random.uniform(2.5, 3.5)\n",
    "    z = random.uniform(-10.5, -9.5)\n",
    "    x1, x2 = solver(x, y, z)\n",
    "    list_x1.append(x1)\n",
    "    list_x2.append(x2)\n",
    "res1 = sum(list_x1) / n\n",
    "res2 = sum(list_x2) / n\n",
    "print(res1, res2)"
   ]
  }
 ],
 "metadata": {
  "kernelspec": {
   "display_name": "Python 3 (ipykernel)",
   "language": "python",
   "name": "python3"
  },
  "language_info": {
   "codemirror_mode": {
    "name": "ipython",
    "version": 3
   },
   "file_extension": ".py",
   "mimetype": "text/x-python",
   "name": "python",
   "nbconvert_exporter": "python",
   "pygments_lexer": "ipython3",
   "version": "3.9.7"
  }
 },
 "nbformat": 4,
 "nbformat_minor": 1
}
